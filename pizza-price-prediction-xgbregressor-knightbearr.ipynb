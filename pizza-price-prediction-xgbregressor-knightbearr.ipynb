{
 "cells": [
  {
   "cell_type": "markdown",
   "id": "df74ffe8",
   "metadata": {
    "papermill": {
     "duration": 0.028056,
     "end_time": "2021-08-14T09:28:36.581558",
     "exception": false,
     "start_time": "2021-08-14T09:28:36.553502",
     "status": "completed"
    },
    "tags": []
   },
   "source": [
    "# **Guessing Prices Pizza by Diameter, Topping, and Many more**\n",
    "\n",
    "This Machine Learning model inspired by **YouTube** channel names **indonesia_belajar**, and i modified this model with more data.\n",
    "\n",
    "note : sorry if my English typing is bad, hopefully you guys can understand."
   ]
  },
  {
   "cell_type": "markdown",
   "id": "adde516b",
   "metadata": {
    "papermill": {
     "duration": 0.035033,
     "end_time": "2021-08-14T09:28:36.644016",
     "exception": false,
     "start_time": "2021-08-14T09:28:36.608983",
     "status": "completed"
    },
    "tags": []
   },
   "source": [
    "# **Workflow**\n",
    "\n",
    "1. Data Collection\n",
    "2. Data Cleaning & Checking\n",
    "3. Encode Data\n",
    "3. Visualize Data & Checking\n",
    "4. Splitting Data\n",
    "5. Training Model Using XGBRegressor\n",
    "6. Evaluate Model\n",
    "7. Prediction"
   ]
  },
  {
   "cell_type": "markdown",
   "id": "1ae9f4a4",
   "metadata": {
    "papermill": {
     "duration": 0.036903,
     "end_time": "2021-08-14T09:28:36.717016",
     "exception": false,
     "start_time": "2021-08-14T09:28:36.680113",
     "status": "completed"
    },
    "tags": []
   },
   "source": [
    "# **Import Libraries**\n",
    "\n",
    "import the module that we want to use for this research."
   ]
  },
  {
   "cell_type": "code",
   "execution_count": 1,
   "id": "637a8126",
   "metadata": {
    "_cell_guid": "b1076dfc-b9ad-4769-8c92-a6c4dae69d19",
    "_uuid": "8f2839f25d086af736a60e9eeb907d3b93b6e0e5",
    "execution": {
     "iopub.execute_input": "2021-08-14T09:28:36.782314Z",
     "iopub.status.busy": "2021-08-14T09:28:36.781263Z",
     "iopub.status.idle": "2021-08-14T09:28:37.887703Z",
     "shell.execute_reply": "2021-08-14T09:28:37.887120Z",
     "shell.execute_reply.started": "2021-08-14T09:24:55.125490Z"
    },
    "papermill": {
     "duration": 1.13638,
     "end_time": "2021-08-14T09:28:37.887860",
     "exception": false,
     "start_time": "2021-08-14T09:28:36.751480",
     "status": "completed"
    },
    "tags": []
   },
   "outputs": [
    {
     "name": "stdout",
     "output_type": "stream",
     "text": [
      "/kaggle/input/pizza-price-prediction/pizza_v1.csv\n"
     ]
    }
   ],
   "source": [
    "import pandas as pd\n",
    "pd.set_option('display.width', 100)\n",
    "pd.set_option('display.max_columns', 8)\n",
    "import numpy as np\n",
    "import math\n",
    "import matplotlib.pyplot as plt\n",
    "import seaborn as sns\n",
    "from sklearn.model_selection import train_test_split\n",
    "from sklearn import metrics\n",
    "from xgboost import XGBRegressor\n",
    "from sklearn.preprocessing import LabelEncoder\n",
    "from sklearn.pipeline import Pipeline\n",
    "import os\n",
    "for dirname, _, filenames in os.walk('/kaggle/input'):\n",
    "    for filename in filenames:\n",
    "        print(os.path.join(dirname, filename))"
   ]
  },
  {
   "cell_type": "markdown",
   "id": "fca7a97c",
   "metadata": {
    "papermill": {
     "duration": 0.02678,
     "end_time": "2021-08-14T09:28:37.942293",
     "exception": false,
     "start_time": "2021-08-14T09:28:37.915513",
     "status": "completed"
    },
    "tags": []
   },
   "source": [
    "# **Import The Dataset**\n",
    "\n",
    "import the dataset\n",
    "\n",
    "note : this dataset is made by me after collecting some information about the price of pizza and many more on internet, and hopefully this dataset useful for you guys, sorry if i had a mistake in spelling some words, thanks in advance.\n",
    "\n",
    "you guys can check it."
   ]
  },
  {
   "cell_type": "code",
   "execution_count": 2,
   "id": "717c9732",
   "metadata": {
    "execution": {
     "iopub.execute_input": "2021-08-14T09:28:38.001056Z",
     "iopub.status.busy": "2021-08-14T09:28:38.000349Z",
     "iopub.status.idle": "2021-08-14T09:28:38.012746Z",
     "shell.execute_reply": "2021-08-14T09:28:38.012271Z",
     "shell.execute_reply.started": "2021-08-14T09:24:55.649891Z"
    },
    "papermill": {
     "duration": 0.043258,
     "end_time": "2021-08-14T09:28:38.012881",
     "exception": false,
     "start_time": "2021-08-14T09:28:37.969623",
     "status": "completed"
    },
    "tags": []
   },
   "outputs": [],
   "source": [
    "dataPizza = pd.read_csv('../input/pizza-price-prediction/pizza_v1.csv')"
   ]
  },
  {
   "cell_type": "markdown",
   "id": "c8d8e212",
   "metadata": {
    "papermill": {
     "duration": 0.026926,
     "end_time": "2021-08-14T09:28:38.066745",
     "exception": false,
     "start_time": "2021-08-14T09:28:38.039819",
     "status": "completed"
    },
    "tags": []
   },
   "source": [
    "# **Cleaning & Checking The Dataset**\n",
    "\n",
    "we must check the data every time we want to make a model, because this is the important thing, if you suddenly meet a bad dataset, wether you want it or not, you must clean the dataset. since we use my dataset, i guarantee the data is 100% clean and have a non null data, and we can just focus in encoding the data since our data is categorical. "
   ]
  },
  {
   "cell_type": "code",
   "execution_count": 3,
   "id": "8b107a9e",
   "metadata": {
    "execution": {
     "iopub.execute_input": "2021-08-14T09:28:38.129955Z",
     "iopub.status.busy": "2021-08-14T09:28:38.129388Z",
     "iopub.status.idle": "2021-08-14T09:28:38.149540Z",
     "shell.execute_reply": "2021-08-14T09:28:38.150067Z",
     "shell.execute_reply.started": "2021-08-14T09:24:55.664928Z"
    },
    "papermill": {
     "duration": 0.056672,
     "end_time": "2021-08-14T09:28:38.150229",
     "exception": false,
     "start_time": "2021-08-14T09:28:38.093557",
     "status": "completed"
    },
    "tags": []
   },
   "outputs": [
    {
     "data": {
      "text/html": [
       "<div>\n",
       "<style scoped>\n",
       "    .dataframe tbody tr th:only-of-type {\n",
       "        vertical-align: middle;\n",
       "    }\n",
       "\n",
       "    .dataframe tbody tr th {\n",
       "        vertical-align: top;\n",
       "    }\n",
       "\n",
       "    .dataframe thead th {\n",
       "        text-align: right;\n",
       "    }\n",
       "</style>\n",
       "<table border=\"1\" class=\"dataframe\">\n",
       "  <thead>\n",
       "    <tr style=\"text-align: right;\">\n",
       "      <th></th>\n",
       "      <th>company</th>\n",
       "      <th>price_rupiah</th>\n",
       "      <th>diameter</th>\n",
       "      <th>topping</th>\n",
       "      <th>variant</th>\n",
       "      <th>size</th>\n",
       "      <th>extra_sauce</th>\n",
       "      <th>extra_cheese</th>\n",
       "    </tr>\n",
       "  </thead>\n",
       "  <tbody>\n",
       "    <tr>\n",
       "      <th>0</th>\n",
       "      <td>A</td>\n",
       "      <td>Rp235,000</td>\n",
       "      <td>22.0</td>\n",
       "      <td>chicken</td>\n",
       "      <td>double_signature</td>\n",
       "      <td>jumbo</td>\n",
       "      <td>yes</td>\n",
       "      <td>yes</td>\n",
       "    </tr>\n",
       "    <tr>\n",
       "      <th>1</th>\n",
       "      <td>A</td>\n",
       "      <td>Rp198,000</td>\n",
       "      <td>20.0</td>\n",
       "      <td>papperoni</td>\n",
       "      <td>double_signature</td>\n",
       "      <td>jumbo</td>\n",
       "      <td>yes</td>\n",
       "      <td>yes</td>\n",
       "    </tr>\n",
       "    <tr>\n",
       "      <th>2</th>\n",
       "      <td>A</td>\n",
       "      <td>Rp120,000</td>\n",
       "      <td>16.0</td>\n",
       "      <td>mushrooms</td>\n",
       "      <td>double_signature</td>\n",
       "      <td>reguler</td>\n",
       "      <td>yes</td>\n",
       "      <td>yes</td>\n",
       "    </tr>\n",
       "    <tr>\n",
       "      <th>3</th>\n",
       "      <td>A</td>\n",
       "      <td>Rp155,000</td>\n",
       "      <td>14.0</td>\n",
       "      <td>smoked beef</td>\n",
       "      <td>double_signature</td>\n",
       "      <td>reguler</td>\n",
       "      <td>yes</td>\n",
       "      <td>no</td>\n",
       "    </tr>\n",
       "    <tr>\n",
       "      <th>4</th>\n",
       "      <td>A</td>\n",
       "      <td>Rp248,000</td>\n",
       "      <td>18.0</td>\n",
       "      <td>mozzarella</td>\n",
       "      <td>double_signature</td>\n",
       "      <td>jumbo</td>\n",
       "      <td>yes</td>\n",
       "      <td>no</td>\n",
       "    </tr>\n",
       "  </tbody>\n",
       "</table>\n",
       "</div>"
      ],
      "text/plain": [
       "  company price_rupiah  diameter      topping           variant     size extra_sauce extra_cheese\n",
       "0       A    Rp235,000      22.0      chicken  double_signature    jumbo         yes          yes\n",
       "1       A    Rp198,000      20.0    papperoni  double_signature    jumbo         yes          yes\n",
       "2       A    Rp120,000      16.0    mushrooms  double_signature  reguler         yes          yes\n",
       "3       A    Rp155,000      14.0  smoked beef  double_signature  reguler         yes           no\n",
       "4       A    Rp248,000      18.0   mozzarella  double_signature    jumbo         yes           no"
      ]
     },
     "execution_count": 3,
     "metadata": {},
     "output_type": "execute_result"
    }
   ],
   "source": [
    "# Checking the first 5 rows of data\n",
    "dataPizza.head()"
   ]
  },
  {
   "cell_type": "code",
   "execution_count": 4,
   "id": "bc7320c1",
   "metadata": {
    "execution": {
     "iopub.execute_input": "2021-08-14T09:28:38.207295Z",
     "iopub.status.busy": "2021-08-14T09:28:38.206738Z",
     "iopub.status.idle": "2021-08-14T09:28:38.219396Z",
     "shell.execute_reply": "2021-08-14T09:28:38.219915Z",
     "shell.execute_reply.started": "2021-08-14T09:24:55.697051Z"
    },
    "papermill": {
     "duration": 0.042559,
     "end_time": "2021-08-14T09:28:38.220087",
     "exception": false,
     "start_time": "2021-08-14T09:28:38.177528",
     "status": "completed"
    },
    "tags": []
   },
   "outputs": [
    {
     "data": {
      "text/html": [
       "<div>\n",
       "<style scoped>\n",
       "    .dataframe tbody tr th:only-of-type {\n",
       "        vertical-align: middle;\n",
       "    }\n",
       "\n",
       "    .dataframe tbody tr th {\n",
       "        vertical-align: top;\n",
       "    }\n",
       "\n",
       "    .dataframe thead th {\n",
       "        text-align: right;\n",
       "    }\n",
       "</style>\n",
       "<table border=\"1\" class=\"dataframe\">\n",
       "  <thead>\n",
       "    <tr style=\"text-align: right;\">\n",
       "      <th></th>\n",
       "      <th>company</th>\n",
       "      <th>price_rupiah</th>\n",
       "      <th>diameter</th>\n",
       "      <th>topping</th>\n",
       "      <th>variant</th>\n",
       "      <th>size</th>\n",
       "      <th>extra_sauce</th>\n",
       "      <th>extra_cheese</th>\n",
       "    </tr>\n",
       "  </thead>\n",
       "  <tbody>\n",
       "    <tr>\n",
       "      <th>124</th>\n",
       "      <td>E</td>\n",
       "      <td>Rp39,000</td>\n",
       "      <td>8.5</td>\n",
       "      <td>tuna</td>\n",
       "      <td>spicy tuna</td>\n",
       "      <td>small</td>\n",
       "      <td>yes</td>\n",
       "      <td>yes</td>\n",
       "    </tr>\n",
       "    <tr>\n",
       "      <th>125</th>\n",
       "      <td>E</td>\n",
       "      <td>Rp72,000</td>\n",
       "      <td>12.0</td>\n",
       "      <td>tuna</td>\n",
       "      <td>spicy tuna</td>\n",
       "      <td>medium</td>\n",
       "      <td>yes</td>\n",
       "      <td>yes</td>\n",
       "    </tr>\n",
       "    <tr>\n",
       "      <th>126</th>\n",
       "      <td>E</td>\n",
       "      <td>Rp99,000</td>\n",
       "      <td>14.0</td>\n",
       "      <td>tuna</td>\n",
       "      <td>spicy tuna</td>\n",
       "      <td>large</td>\n",
       "      <td>yes</td>\n",
       "      <td>yes</td>\n",
       "    </tr>\n",
       "    <tr>\n",
       "      <th>127</th>\n",
       "      <td>E</td>\n",
       "      <td>Rp44,000</td>\n",
       "      <td>8.5</td>\n",
       "      <td>meat</td>\n",
       "      <td>BBQ_meat_fiesta</td>\n",
       "      <td>small</td>\n",
       "      <td>yes</td>\n",
       "      <td>no</td>\n",
       "    </tr>\n",
       "    <tr>\n",
       "      <th>128</th>\n",
       "      <td>E</td>\n",
       "      <td>Rp78,000</td>\n",
       "      <td>12.0</td>\n",
       "      <td>meat</td>\n",
       "      <td>BBQ_meat_fiesta</td>\n",
       "      <td>medium</td>\n",
       "      <td>no</td>\n",
       "      <td>no</td>\n",
       "    </tr>\n",
       "  </tbody>\n",
       "</table>\n",
       "</div>"
      ],
      "text/plain": [
       "    company price_rupiah  diameter topping          variant    size extra_sauce extra_cheese\n",
       "124       E     Rp39,000       8.5    tuna       spicy tuna   small         yes          yes\n",
       "125       E     Rp72,000      12.0    tuna       spicy tuna  medium         yes          yes\n",
       "126       E     Rp99,000      14.0    tuna       spicy tuna   large         yes          yes\n",
       "127       E     Rp44,000       8.5    meat  BBQ_meat_fiesta   small         yes           no\n",
       "128       E     Rp78,000      12.0    meat  BBQ_meat_fiesta  medium          no           no"
      ]
     },
     "execution_count": 4,
     "metadata": {},
     "output_type": "execute_result"
    }
   ],
   "source": [
    "# Checking the last 5 rows of data\n",
    "dataPizza.tail()"
   ]
  },
  {
   "cell_type": "code",
   "execution_count": 5,
   "id": "220dcf89",
   "metadata": {
    "execution": {
     "iopub.execute_input": "2021-08-14T09:28:38.277946Z",
     "iopub.status.busy": "2021-08-14T09:28:38.277400Z",
     "iopub.status.idle": "2021-08-14T09:28:38.295243Z",
     "shell.execute_reply": "2021-08-14T09:28:38.295667Z",
     "shell.execute_reply.started": "2021-08-14T09:24:55.716274Z"
    },
    "papermill": {
     "duration": 0.048366,
     "end_time": "2021-08-14T09:28:38.295843",
     "exception": false,
     "start_time": "2021-08-14T09:28:38.247477",
     "status": "completed"
    },
    "tags": []
   },
   "outputs": [
    {
     "name": "stdout",
     "output_type": "stream",
     "text": [
      "<class 'pandas.core.frame.DataFrame'>\n",
      "RangeIndex: 129 entries, 0 to 128\n",
      "Data columns (total 8 columns):\n",
      " #   Column        Non-Null Count  Dtype  \n",
      "---  ------        --------------  -----  \n",
      " 0   company       129 non-null    object \n",
      " 1   price_rupiah  129 non-null    object \n",
      " 2   diameter      129 non-null    float64\n",
      " 3   topping       129 non-null    object \n",
      " 4   variant       129 non-null    object \n",
      " 5   size          129 non-null    object \n",
      " 6   extra_sauce   129 non-null    object \n",
      " 7   extra_cheese  129 non-null    object \n",
      "dtypes: float64(1), object(7)\n",
      "memory usage: 8.2+ KB\n"
     ]
    }
   ],
   "source": [
    "# Getting the information about the dataset\n",
    "dataPizza.info()"
   ]
  },
  {
   "cell_type": "code",
   "execution_count": 6,
   "id": "87824b01",
   "metadata": {
    "execution": {
     "iopub.execute_input": "2021-08-14T09:28:38.354601Z",
     "iopub.status.busy": "2021-08-14T09:28:38.354053Z",
     "iopub.status.idle": "2021-08-14T09:28:38.358847Z",
     "shell.execute_reply": "2021-08-14T09:28:38.359277Z",
     "shell.execute_reply.started": "2021-08-14T09:24:55.745684Z"
    },
    "papermill": {
     "duration": 0.035818,
     "end_time": "2021-08-14T09:28:38.359432",
     "exception": false,
     "start_time": "2021-08-14T09:28:38.323614",
     "status": "completed"
    },
    "tags": []
   },
   "outputs": [],
   "source": [
    "# Cleaning Price Data\n",
    "price = []\n",
    "\n",
    "for item in dataPizza['price_rupiah']:\n",
    "    price += [float(item.replace('Rp', '').replace(',', ''))]\n",
    "    \n",
    "dataPizza['price_rupiah'] = price"
   ]
  },
  {
   "cell_type": "code",
   "execution_count": 7,
   "id": "ffe64763",
   "metadata": {
    "execution": {
     "iopub.execute_input": "2021-08-14T09:28:38.418694Z",
     "iopub.status.busy": "2021-08-14T09:28:38.418160Z",
     "iopub.status.idle": "2021-08-14T09:28:38.432488Z",
     "shell.execute_reply": "2021-08-14T09:28:38.432863Z",
     "shell.execute_reply.started": "2021-08-14T09:24:55.761810Z"
    },
    "papermill": {
     "duration": 0.045333,
     "end_time": "2021-08-14T09:28:38.433047",
     "exception": false,
     "start_time": "2021-08-14T09:28:38.387714",
     "status": "completed"
    },
    "tags": []
   },
   "outputs": [
    {
     "data": {
      "text/html": [
       "<div>\n",
       "<style scoped>\n",
       "    .dataframe tbody tr th:only-of-type {\n",
       "        vertical-align: middle;\n",
       "    }\n",
       "\n",
       "    .dataframe tbody tr th {\n",
       "        vertical-align: top;\n",
       "    }\n",
       "\n",
       "    .dataframe thead th {\n",
       "        text-align: right;\n",
       "    }\n",
       "</style>\n",
       "<table border=\"1\" class=\"dataframe\">\n",
       "  <thead>\n",
       "    <tr style=\"text-align: right;\">\n",
       "      <th></th>\n",
       "      <th>company</th>\n",
       "      <th>topping</th>\n",
       "      <th>variant</th>\n",
       "      <th>size</th>\n",
       "      <th>extra_sauce</th>\n",
       "      <th>extra_cheese</th>\n",
       "    </tr>\n",
       "  </thead>\n",
       "  <tbody>\n",
       "    <tr>\n",
       "      <th>0</th>\n",
       "      <td>A</td>\n",
       "      <td>chicken</td>\n",
       "      <td>double_signature</td>\n",
       "      <td>jumbo</td>\n",
       "      <td>yes</td>\n",
       "      <td>yes</td>\n",
       "    </tr>\n",
       "    <tr>\n",
       "      <th>1</th>\n",
       "      <td>A</td>\n",
       "      <td>papperoni</td>\n",
       "      <td>double_signature</td>\n",
       "      <td>jumbo</td>\n",
       "      <td>yes</td>\n",
       "      <td>yes</td>\n",
       "    </tr>\n",
       "    <tr>\n",
       "      <th>2</th>\n",
       "      <td>A</td>\n",
       "      <td>mushrooms</td>\n",
       "      <td>double_signature</td>\n",
       "      <td>reguler</td>\n",
       "      <td>yes</td>\n",
       "      <td>yes</td>\n",
       "    </tr>\n",
       "    <tr>\n",
       "      <th>3</th>\n",
       "      <td>A</td>\n",
       "      <td>smoked beef</td>\n",
       "      <td>double_signature</td>\n",
       "      <td>reguler</td>\n",
       "      <td>yes</td>\n",
       "      <td>no</td>\n",
       "    </tr>\n",
       "    <tr>\n",
       "      <th>4</th>\n",
       "      <td>A</td>\n",
       "      <td>mozzarella</td>\n",
       "      <td>double_signature</td>\n",
       "      <td>jumbo</td>\n",
       "      <td>yes</td>\n",
       "      <td>no</td>\n",
       "    </tr>\n",
       "    <tr>\n",
       "      <th>...</th>\n",
       "      <td>...</td>\n",
       "      <td>...</td>\n",
       "      <td>...</td>\n",
       "      <td>...</td>\n",
       "      <td>...</td>\n",
       "      <td>...</td>\n",
       "    </tr>\n",
       "    <tr>\n",
       "      <th>124</th>\n",
       "      <td>E</td>\n",
       "      <td>tuna</td>\n",
       "      <td>spicy tuna</td>\n",
       "      <td>small</td>\n",
       "      <td>yes</td>\n",
       "      <td>yes</td>\n",
       "    </tr>\n",
       "    <tr>\n",
       "      <th>125</th>\n",
       "      <td>E</td>\n",
       "      <td>tuna</td>\n",
       "      <td>spicy tuna</td>\n",
       "      <td>medium</td>\n",
       "      <td>yes</td>\n",
       "      <td>yes</td>\n",
       "    </tr>\n",
       "    <tr>\n",
       "      <th>126</th>\n",
       "      <td>E</td>\n",
       "      <td>tuna</td>\n",
       "      <td>spicy tuna</td>\n",
       "      <td>large</td>\n",
       "      <td>yes</td>\n",
       "      <td>yes</td>\n",
       "    </tr>\n",
       "    <tr>\n",
       "      <th>127</th>\n",
       "      <td>E</td>\n",
       "      <td>meat</td>\n",
       "      <td>BBQ_meat_fiesta</td>\n",
       "      <td>small</td>\n",
       "      <td>yes</td>\n",
       "      <td>no</td>\n",
       "    </tr>\n",
       "    <tr>\n",
       "      <th>128</th>\n",
       "      <td>E</td>\n",
       "      <td>meat</td>\n",
       "      <td>BBQ_meat_fiesta</td>\n",
       "      <td>medium</td>\n",
       "      <td>no</td>\n",
       "      <td>no</td>\n",
       "    </tr>\n",
       "  </tbody>\n",
       "</table>\n",
       "<p>129 rows × 6 columns</p>\n",
       "</div>"
      ],
      "text/plain": [
       "    company      topping           variant     size extra_sauce extra_cheese\n",
       "0         A      chicken  double_signature    jumbo         yes          yes\n",
       "1         A    papperoni  double_signature    jumbo         yes          yes\n",
       "2         A    mushrooms  double_signature  reguler         yes          yes\n",
       "3         A  smoked beef  double_signature  reguler         yes           no\n",
       "4         A   mozzarella  double_signature    jumbo         yes           no\n",
       "..      ...          ...               ...      ...         ...          ...\n",
       "124       E         tuna        spicy tuna    small         yes          yes\n",
       "125       E         tuna        spicy tuna   medium         yes          yes\n",
       "126       E         tuna        spicy tuna    large         yes          yes\n",
       "127       E         meat   BBQ_meat_fiesta    small         yes           no\n",
       "128       E         meat   BBQ_meat_fiesta   medium          no           no\n",
       "\n",
       "[129 rows x 6 columns]"
      ]
     },
     "execution_count": 7,
     "metadata": {},
     "output_type": "execute_result"
    }
   ],
   "source": [
    "# Seeing the categorical data\n",
    "dataPizza.loc[:, ['company', 'topping', 'variant', 'size', 'extra_sauce', 'extra_cheese']]"
   ]
  },
  {
   "cell_type": "markdown",
   "id": "f95abe00",
   "metadata": {
    "papermill": {
     "duration": 0.031351,
     "end_time": "2021-08-14T09:28:38.500339",
     "exception": false,
     "start_time": "2021-08-14T09:28:38.468988",
     "status": "completed"
    },
    "tags": []
   },
   "source": [
    "# **Encode**\n",
    "\n",
    "we need to encode the data since this data is a categorical data, and i'm using LabelEncoder here, since this data have a lot of categorical data."
   ]
  },
  {
   "cell_type": "code",
   "execution_count": 8,
   "id": "32188f3a",
   "metadata": {
    "execution": {
     "iopub.execute_input": "2021-08-14T09:28:38.577919Z",
     "iopub.status.busy": "2021-08-14T09:28:38.577406Z",
     "iopub.status.idle": "2021-08-14T09:28:38.580276Z",
     "shell.execute_reply": "2021-08-14T09:28:38.579810Z",
     "shell.execute_reply.started": "2021-08-14T09:24:55.792238Z"
    },
    "papermill": {
     "duration": 0.040619,
     "end_time": "2021-08-14T09:28:38.580501",
     "exception": false,
     "start_time": "2021-08-14T09:28:38.539882",
     "status": "completed"
    },
    "tags": []
   },
   "outputs": [],
   "source": [
    "labelEncoder = LabelEncoder()"
   ]
  },
  {
   "cell_type": "code",
   "execution_count": 9,
   "id": "d5218dc8",
   "metadata": {
    "execution": {
     "iopub.execute_input": "2021-08-14T09:28:38.644534Z",
     "iopub.status.busy": "2021-08-14T09:28:38.643904Z",
     "iopub.status.idle": "2021-08-14T09:28:38.652164Z",
     "shell.execute_reply": "2021-08-14T09:28:38.651667Z",
     "shell.execute_reply.started": "2021-08-14T09:24:55.803982Z"
    },
    "papermill": {
     "duration": 0.043256,
     "end_time": "2021-08-14T09:28:38.652297",
     "exception": false,
     "start_time": "2021-08-14T09:28:38.609041",
     "status": "completed"
    },
    "tags": []
   },
   "outputs": [],
   "source": [
    "# Accommodate data into dataVariables\n",
    "data = dataPizza\n",
    "\n",
    "# Encode the object data to type int\n",
    "for e in data.columns:\n",
    "    if data[e].dtype == 'object':\n",
    "        labelEncoder.fit(list(data[e].values))\n",
    "        data[e] = labelEncoder.transform(data[e].values)\n",
    "\n",
    "        # Change the data type to float\n",
    "        for i in data.columns:\n",
    "            if data[i].dtype == 'int':\n",
    "                data[i] = data[i].astype('float64')\n",
    "\n",
    "                # Accommodate the data that has been changed\n",
    "                dataPizza = data"
   ]
  },
  {
   "cell_type": "code",
   "execution_count": 10,
   "id": "cfb99672",
   "metadata": {
    "execution": {
     "iopub.execute_input": "2021-08-14T09:28:38.715782Z",
     "iopub.status.busy": "2021-08-14T09:28:38.712288Z",
     "iopub.status.idle": "2021-08-14T09:28:38.742613Z",
     "shell.execute_reply": "2021-08-14T09:28:38.743050Z",
     "shell.execute_reply.started": "2021-08-14T09:24:55.827047Z"
    },
    "papermill": {
     "duration": 0.062696,
     "end_time": "2021-08-14T09:28:38.743208",
     "exception": false,
     "start_time": "2021-08-14T09:28:38.680512",
     "status": "completed"
    },
    "tags": []
   },
   "outputs": [
    {
     "data": {
      "text/html": [
       "<div>\n",
       "<style scoped>\n",
       "    .dataframe tbody tr th:only-of-type {\n",
       "        vertical-align: middle;\n",
       "    }\n",
       "\n",
       "    .dataframe tbody tr th {\n",
       "        vertical-align: top;\n",
       "    }\n",
       "\n",
       "    .dataframe thead th {\n",
       "        text-align: right;\n",
       "    }\n",
       "</style>\n",
       "<table border=\"1\" class=\"dataframe\">\n",
       "  <thead>\n",
       "    <tr style=\"text-align: right;\">\n",
       "      <th></th>\n",
       "      <th>company</th>\n",
       "      <th>price_rupiah</th>\n",
       "      <th>diameter</th>\n",
       "      <th>topping</th>\n",
       "      <th>variant</th>\n",
       "      <th>size</th>\n",
       "      <th>extra_sauce</th>\n",
       "      <th>extra_cheese</th>\n",
       "    </tr>\n",
       "  </thead>\n",
       "  <tbody>\n",
       "    <tr>\n",
       "      <th>count</th>\n",
       "      <td>129.000000</td>\n",
       "      <td>129.000000</td>\n",
       "      <td>129.000000</td>\n",
       "      <td>129.000000</td>\n",
       "      <td>129.000000</td>\n",
       "      <td>129.000000</td>\n",
       "      <td>129.000000</td>\n",
       "      <td>129.000000</td>\n",
       "    </tr>\n",
       "    <tr>\n",
       "      <th>mean</th>\n",
       "      <td>2.046512</td>\n",
       "      <td>87151.162791</td>\n",
       "      <td>12.976744</td>\n",
       "      <td>5.294574</td>\n",
       "      <td>8.155039</td>\n",
       "      <td>2.868217</td>\n",
       "      <td>0.589147</td>\n",
       "      <td>0.666667</td>\n",
       "    </tr>\n",
       "    <tr>\n",
       "      <th>std</th>\n",
       "      <td>1.435381</td>\n",
       "      <td>44706.097732</td>\n",
       "      <td>3.272674</td>\n",
       "      <td>3.204984</td>\n",
       "      <td>5.265527</td>\n",
       "      <td>1.470437</td>\n",
       "      <td>0.493907</td>\n",
       "      <td>0.473242</td>\n",
       "    </tr>\n",
       "    <tr>\n",
       "      <th>min</th>\n",
       "      <td>0.000000</td>\n",
       "      <td>23500.000000</td>\n",
       "      <td>8.000000</td>\n",
       "      <td>0.000000</td>\n",
       "      <td>0.000000</td>\n",
       "      <td>0.000000</td>\n",
       "      <td>0.000000</td>\n",
       "      <td>0.000000</td>\n",
       "    </tr>\n",
       "    <tr>\n",
       "      <th>25%</th>\n",
       "      <td>1.000000</td>\n",
       "      <td>51000.000000</td>\n",
       "      <td>12.000000</td>\n",
       "      <td>2.000000</td>\n",
       "      <td>4.000000</td>\n",
       "      <td>2.000000</td>\n",
       "      <td>0.000000</td>\n",
       "      <td>0.000000</td>\n",
       "    </tr>\n",
       "    <tr>\n",
       "      <th>50%</th>\n",
       "      <td>2.000000</td>\n",
       "      <td>78000.000000</td>\n",
       "      <td>12.000000</td>\n",
       "      <td>5.000000</td>\n",
       "      <td>6.000000</td>\n",
       "      <td>3.000000</td>\n",
       "      <td>1.000000</td>\n",
       "      <td>1.000000</td>\n",
       "    </tr>\n",
       "    <tr>\n",
       "      <th>75%</th>\n",
       "      <td>3.000000</td>\n",
       "      <td>105000.000000</td>\n",
       "      <td>14.000000</td>\n",
       "      <td>9.000000</td>\n",
       "      <td>13.000000</td>\n",
       "      <td>4.000000</td>\n",
       "      <td>1.000000</td>\n",
       "      <td>1.000000</td>\n",
       "    </tr>\n",
       "    <tr>\n",
       "      <th>max</th>\n",
       "      <td>4.000000</td>\n",
       "      <td>248000.000000</td>\n",
       "      <td>22.000000</td>\n",
       "      <td>11.000000</td>\n",
       "      <td>19.000000</td>\n",
       "      <td>5.000000</td>\n",
       "      <td>1.000000</td>\n",
       "      <td>1.000000</td>\n",
       "    </tr>\n",
       "  </tbody>\n",
       "</table>\n",
       "</div>"
      ],
      "text/plain": [
       "          company   price_rupiah    diameter     topping     variant        size  extra_sauce  \\\n",
       "count  129.000000     129.000000  129.000000  129.000000  129.000000  129.000000   129.000000   \n",
       "mean     2.046512   87151.162791   12.976744    5.294574    8.155039    2.868217     0.589147   \n",
       "std      1.435381   44706.097732    3.272674    3.204984    5.265527    1.470437     0.493907   \n",
       "min      0.000000   23500.000000    8.000000    0.000000    0.000000    0.000000     0.000000   \n",
       "25%      1.000000   51000.000000   12.000000    2.000000    4.000000    2.000000     0.000000   \n",
       "50%      2.000000   78000.000000   12.000000    5.000000    6.000000    3.000000     1.000000   \n",
       "75%      3.000000  105000.000000   14.000000    9.000000   13.000000    4.000000     1.000000   \n",
       "max      4.000000  248000.000000   22.000000   11.000000   19.000000    5.000000     1.000000   \n",
       "\n",
       "       extra_cheese  \n",
       "count    129.000000  \n",
       "mean       0.666667  \n",
       "std        0.473242  \n",
       "min        0.000000  \n",
       "25%        0.000000  \n",
       "50%        1.000000  \n",
       "75%        1.000000  \n",
       "max        1.000000  "
      ]
     },
     "execution_count": 10,
     "metadata": {},
     "output_type": "execute_result"
    }
   ],
   "source": [
    "# Getting the statistical info\n",
    "dataPizza.describe()"
   ]
  },
  {
   "cell_type": "markdown",
   "id": "04531bcd",
   "metadata": {
    "papermill": {
     "duration": 0.02826,
     "end_time": "2021-08-14T09:28:38.799995",
     "exception": false,
     "start_time": "2021-08-14T09:28:38.771735",
     "status": "completed"
    },
    "tags": []
   },
   "source": [
    "**Coefficient of Variation**\n",
    "\n",
    "The coefficient of variation is a measure of variance that can be used to compare a data distribution that has different units.\n",
    "\n",
    "* The higher the Coefficient of Variation = the wider the data you have compared to the average data (more difficult to predict)\n",
    "* The Lower Coefficient of Variation = The narrower the data you have compared to the Average data (Easier to predict)"
   ]
  },
  {
   "cell_type": "code",
   "execution_count": 11,
   "id": "626b8296",
   "metadata": {
    "execution": {
     "iopub.execute_input": "2021-08-14T09:28:38.860228Z",
     "iopub.status.busy": "2021-08-14T09:28:38.859645Z",
     "iopub.status.idle": "2021-08-14T09:28:38.872097Z",
     "shell.execute_reply": "2021-08-14T09:28:38.871437Z",
     "shell.execute_reply.started": "2021-08-14T09:24:55.873215Z"
    },
    "papermill": {
     "duration": 0.04361,
     "end_time": "2021-08-14T09:28:38.872275",
     "exception": false,
     "start_time": "2021-08-14T09:28:38.828665",
     "status": "completed"
    },
    "tags": []
   },
   "outputs": [
    {
     "name": "stdout",
     "output_type": "stream",
     "text": [
      "Coefficient Of Variation Company : 70.13795484040163%\n",
      "Coefficient Of Variation Price : 51.29719019276373%\n",
      "Coefficient Of Variation Diameter : 25.21952768274302%\n",
      "Coefficient Of Variation Topping : 60.53337574131802%\n",
      "Coefficient Of Variation Size : 51.266588560481175%\n",
      "Coefficient Of Variation Sauce : 83.83415842257293%\n",
      "Coefficient Of Variation Cheese : 70.98635432250336%\n"
     ]
    }
   ],
   "source": [
    "# Coefficient of Variation Company\n",
    "covCompany = ((dataPizza['company'].std()/dataPizza['company'].mean()) * 100)\n",
    "print(f'Coefficient Of Variation Company : {covCompany}%')\n",
    "\n",
    "# Coefficient of Variation Price\n",
    "covPrice = ((dataPizza['price_rupiah'].std()/dataPizza['price_rupiah'].mean()) * 100)\n",
    "print(f'Coefficient Of Variation Price : {covPrice}%')\n",
    "\n",
    "# Coefficient of Variation Diameter\n",
    "covDiameter = ((dataPizza['diameter'].std()/dataPizza['diameter'].mean()) * 100)\n",
    "print(f'Coefficient Of Variation Diameter : {covDiameter}%')\n",
    "\n",
    "# Coefficient of Variation Topping\n",
    "covTopping = ((dataPizza['topping'].std()/dataPizza['topping'].mean()) * 100)\n",
    "print(f'Coefficient Of Variation Topping : {covTopping}%')\n",
    "\n",
    "# Coefficient of Variation Size\n",
    "covSize = ((dataPizza['size'].std()/dataPizza['size'].mean()) * 100)\n",
    "print(f'Coefficient Of Variation Size : {covSize}%')\n",
    "\n",
    "# Coefficient of Variation Ext Sauce\n",
    "covExtSauce = ((dataPizza['extra_sauce'].std()/dataPizza['extra_sauce'].mean()) * 100)\n",
    "print(f'Coefficient Of Variation Sauce : {covExtSauce}%')\n",
    "\n",
    "# Coefficient of Variation Ext Cheese\n",
    "covExtCheese = ((dataPizza['extra_cheese'].std()/dataPizza['extra_cheese'].mean()) * 100)\n",
    "print(f'Coefficient Of Variation Cheese : {covExtCheese}%')"
   ]
  },
  {
   "cell_type": "markdown",
   "id": "16d119b5",
   "metadata": {
    "papermill": {
     "duration": 0.028549,
     "end_time": "2021-08-14T09:28:38.930188",
     "exception": false,
     "start_time": "2021-08-14T09:28:38.901639",
     "status": "completed"
    },
    "tags": []
   },
   "source": [
    "as we can see in the output above, the coefficient of price is low than the mean/average of data, it's mean we are ready to rock and roll."
   ]
  },
  {
   "cell_type": "code",
   "execution_count": 12,
   "id": "b2e41943",
   "metadata": {
    "execution": {
     "iopub.execute_input": "2021-08-14T09:28:39.004883Z",
     "iopub.status.busy": "2021-08-14T09:28:39.004067Z",
     "iopub.status.idle": "2021-08-14T09:28:39.007944Z",
     "shell.execute_reply": "2021-08-14T09:28:39.007405Z",
     "shell.execute_reply.started": "2021-08-14T09:24:55.890378Z"
    },
    "papermill": {
     "duration": 0.049175,
     "end_time": "2021-08-14T09:28:39.008106",
     "exception": false,
     "start_time": "2021-08-14T09:28:38.958931",
     "status": "completed"
    },
    "tags": []
   },
   "outputs": [
    {
     "data": {
      "text/html": [
       "<div>\n",
       "<style scoped>\n",
       "    .dataframe tbody tr th:only-of-type {\n",
       "        vertical-align: middle;\n",
       "    }\n",
       "\n",
       "    .dataframe tbody tr th {\n",
       "        vertical-align: top;\n",
       "    }\n",
       "\n",
       "    .dataframe thead th {\n",
       "        text-align: right;\n",
       "    }\n",
       "</style>\n",
       "<table border=\"1\" class=\"dataframe\">\n",
       "  <thead>\n",
       "    <tr style=\"text-align: right;\">\n",
       "      <th></th>\n",
       "      <th>company</th>\n",
       "      <th>price_rupiah</th>\n",
       "      <th>diameter</th>\n",
       "      <th>topping</th>\n",
       "      <th>variant</th>\n",
       "      <th>size</th>\n",
       "      <th>extra_sauce</th>\n",
       "      <th>extra_cheese</th>\n",
       "    </tr>\n",
       "  </thead>\n",
       "  <tbody>\n",
       "    <tr>\n",
       "      <th>company</th>\n",
       "      <td>1.000000</td>\n",
       "      <td>-0.300033</td>\n",
       "      <td>-0.182710</td>\n",
       "      <td>0.002093</td>\n",
       "      <td>-0.109497</td>\n",
       "      <td>0.021434</td>\n",
       "      <td>-0.038954</td>\n",
       "      <td>0.034503</td>\n",
       "    </tr>\n",
       "    <tr>\n",
       "      <th>price_rupiah</th>\n",
       "      <td>-0.300033</td>\n",
       "      <td>1.000000</td>\n",
       "      <td>0.826977</td>\n",
       "      <td>-0.077875</td>\n",
       "      <td>0.130395</td>\n",
       "      <td>-0.551606</td>\n",
       "      <td>0.083859</td>\n",
       "      <td>0.011817</td>\n",
       "    </tr>\n",
       "    <tr>\n",
       "      <th>diameter</th>\n",
       "      <td>-0.182710</td>\n",
       "      <td>0.826977</td>\n",
       "      <td>1.000000</td>\n",
       "      <td>-0.178475</td>\n",
       "      <td>0.193343</td>\n",
       "      <td>-0.836722</td>\n",
       "      <td>-0.063957</td>\n",
       "      <td>0.055488</td>\n",
       "    </tr>\n",
       "    <tr>\n",
       "      <th>topping</th>\n",
       "      <td>0.002093</td>\n",
       "      <td>-0.077875</td>\n",
       "      <td>-0.178475</td>\n",
       "      <td>1.000000</td>\n",
       "      <td>0.255129</td>\n",
       "      <td>0.145894</td>\n",
       "      <td>0.042505</td>\n",
       "      <td>-0.012019</td>\n",
       "    </tr>\n",
       "    <tr>\n",
       "      <th>variant</th>\n",
       "      <td>-0.109497</td>\n",
       "      <td>0.130395</td>\n",
       "      <td>0.193343</td>\n",
       "      <td>0.255129</td>\n",
       "      <td>1.000000</td>\n",
       "      <td>-0.255651</td>\n",
       "      <td>-0.029388</td>\n",
       "      <td>0.268582</td>\n",
       "    </tr>\n",
       "    <tr>\n",
       "      <th>size</th>\n",
       "      <td>0.021434</td>\n",
       "      <td>-0.551606</td>\n",
       "      <td>-0.836722</td>\n",
       "      <td>0.145894</td>\n",
       "      <td>-0.255651</td>\n",
       "      <td>1.000000</td>\n",
       "      <td>0.226068</td>\n",
       "      <td>-0.119754</td>\n",
       "    </tr>\n",
       "    <tr>\n",
       "      <th>extra_sauce</th>\n",
       "      <td>-0.038954</td>\n",
       "      <td>0.083859</td>\n",
       "      <td>-0.063957</td>\n",
       "      <td>0.042505</td>\n",
       "      <td>-0.029388</td>\n",
       "      <td>0.226068</td>\n",
       "      <td>1.000000</td>\n",
       "      <td>-0.089131</td>\n",
       "    </tr>\n",
       "    <tr>\n",
       "      <th>extra_cheese</th>\n",
       "      <td>0.034503</td>\n",
       "      <td>0.011817</td>\n",
       "      <td>0.055488</td>\n",
       "      <td>-0.012019</td>\n",
       "      <td>0.268582</td>\n",
       "      <td>-0.119754</td>\n",
       "      <td>-0.089131</td>\n",
       "      <td>1.000000</td>\n",
       "    </tr>\n",
       "  </tbody>\n",
       "</table>\n",
       "</div>"
      ],
      "text/plain": [
       "               company  price_rupiah  diameter   topping   variant      size  extra_sauce  \\\n",
       "company       1.000000     -0.300033 -0.182710  0.002093 -0.109497  0.021434    -0.038954   \n",
       "price_rupiah -0.300033      1.000000  0.826977 -0.077875  0.130395 -0.551606     0.083859   \n",
       "diameter     -0.182710      0.826977  1.000000 -0.178475  0.193343 -0.836722    -0.063957   \n",
       "topping       0.002093     -0.077875 -0.178475  1.000000  0.255129  0.145894     0.042505   \n",
       "variant      -0.109497      0.130395  0.193343  0.255129  1.000000 -0.255651    -0.029388   \n",
       "size          0.021434     -0.551606 -0.836722  0.145894 -0.255651  1.000000     0.226068   \n",
       "extra_sauce  -0.038954      0.083859 -0.063957  0.042505 -0.029388  0.226068     1.000000   \n",
       "extra_cheese  0.034503      0.011817  0.055488 -0.012019  0.268582 -0.119754    -0.089131   \n",
       "\n",
       "              extra_cheese  \n",
       "company           0.034503  \n",
       "price_rupiah      0.011817  \n",
       "diameter          0.055488  \n",
       "topping          -0.012019  \n",
       "variant           0.268582  \n",
       "size             -0.119754  \n",
       "extra_sauce      -0.089131  \n",
       "extra_cheese      1.000000  "
      ]
     },
     "execution_count": 12,
     "metadata": {},
     "output_type": "execute_result"
    }
   ],
   "source": [
    "# Make a correlation data to knowing Value Strength and Direction of Linear Relationship\n",
    "correlation = dataPizza.corr()\n",
    "correlation"
   ]
  },
  {
   "cell_type": "markdown",
   "id": "e78e5d64",
   "metadata": {
    "papermill": {
     "duration": 0.029082,
     "end_time": "2021-08-14T09:28:39.066702",
     "exception": false,
     "start_time": "2021-08-14T09:28:39.037620",
     "status": "completed"
    },
    "tags": []
   },
   "source": [
    "# **Z-score**\n",
    "\n",
    "Standard Score or Z-score with a value less than –3 or more than +3 indicates that the data value is an extreme value, and to determines how much distance a value (from set sample observations) is to its average in standard deviation units, using Z-score"
   ]
  },
  {
   "cell_type": "code",
   "execution_count": 13,
   "id": "5d2b80e0",
   "metadata": {
    "execution": {
     "iopub.execute_input": "2021-08-14T09:28:39.129739Z",
     "iopub.status.busy": "2021-08-14T09:28:39.129176Z",
     "iopub.status.idle": "2021-08-14T09:28:39.139162Z",
     "shell.execute_reply": "2021-08-14T09:28:39.139603Z",
     "shell.execute_reply.started": "2021-08-14T09:24:55.922228Z"
    },
    "papermill": {
     "duration": 0.043413,
     "end_time": "2021-08-14T09:28:39.139783",
     "exception": false,
     "start_time": "2021-08-14T09:28:39.096370",
     "status": "completed"
    },
    "tags": []
   },
   "outputs": [
    {
     "name": "stdout",
     "output_type": "stream",
     "text": [
      "Z-scores 1 : 4.045283448661596\n",
      "Z-scores 2 : -1.5020582470276294\n",
      "Z-scores 3 : -0.8307727912621121\n",
      "Z-scores 4 : -3.0676041201690576\n"
     ]
    }
   ],
   "source": [
    "# Test Value 1\n",
    "test1 = (dataPizza['price_rupiah'].max() + float(20000))\n",
    "\n",
    "# Test Value 2\n",
    "test2 = (dataPizza['price_rupiah'].min() - float(3500))\n",
    "\n",
    "# Test Value 3\n",
    "test3 = ((dataPizza['price_rupiah'].max() / dataPizza['price_rupiah'].min()) + float(50000))\n",
    "\n",
    "# Test Value 4\n",
    "test4 = ((dataPizza['price_rupiah'].max() / dataPizza['price_rupiah'].min()) - float(50000))\n",
    "\n",
    "\n",
    "# Standard Score Test 1\n",
    "standardScore1 = ((test1 - dataPizza['price_rupiah'].mean()) / dataPizza['price_rupiah'].std())\n",
    "print(f'Z-scores 1 : {standardScore1}')\n",
    "\n",
    "# Standard Score Test 2\n",
    "standardScore2 = ((test2 - dataPizza['price_rupiah'].mean()) / dataPizza['price_rupiah'].std())\n",
    "print(f'Z-scores 2 : {standardScore2}')\n",
    "\n",
    "# Standard Score Test 3\n",
    "standardScore3 = ((test3 - dataPizza['price_rupiah'].mean()) / dataPizza['price_rupiah'].std())\n",
    "print(f'Z-scores 3 : {standardScore3}')\n",
    "\n",
    "# Standard Score Test 4\n",
    "standardScore4 = ((test4 - dataPizza['price_rupiah'].mean()) / dataPizza['price_rupiah'].std())\n",
    "print(f'Z-scores 4 : {standardScore4}')"
   ]
  },
  {
   "cell_type": "markdown",
   "id": "2b56f2d7",
   "metadata": {
    "papermill": {
     "duration": 0.029442,
     "end_time": "2021-08-14T09:28:39.199744",
     "exception": false,
     "start_time": "2021-08-14T09:28:39.170302",
     "status": "completed"
    },
    "tags": []
   },
   "source": [
    "the output above looks nice, we have test our data inside and the out site of data."
   ]
  },
  {
   "cell_type": "code",
   "execution_count": 14,
   "id": "7d32718e",
   "metadata": {
    "execution": {
     "iopub.execute_input": "2021-08-14T09:28:39.262084Z",
     "iopub.status.busy": "2021-08-14T09:28:39.261502Z",
     "iopub.status.idle": "2021-08-14T09:28:39.276119Z",
     "shell.execute_reply": "2021-08-14T09:28:39.276550Z",
     "shell.execute_reply.started": "2021-08-14T09:24:55.937620Z"
    },
    "papermill": {
     "duration": 0.04719,
     "end_time": "2021-08-14T09:28:39.276709",
     "exception": false,
     "start_time": "2021-08-14T09:28:39.229519",
     "status": "completed"
    },
    "tags": []
   },
   "outputs": [
    {
     "data": {
      "text/html": [
       "<div>\n",
       "<style scoped>\n",
       "    .dataframe tbody tr th:only-of-type {\n",
       "        vertical-align: middle;\n",
       "    }\n",
       "\n",
       "    .dataframe tbody tr th {\n",
       "        vertical-align: top;\n",
       "    }\n",
       "\n",
       "    .dataframe thead th {\n",
       "        text-align: right;\n",
       "    }\n",
       "</style>\n",
       "<table border=\"1\" class=\"dataframe\">\n",
       "  <thead>\n",
       "    <tr style=\"text-align: right;\">\n",
       "      <th></th>\n",
       "      <th>122</th>\n",
       "      <th>104</th>\n",
       "    </tr>\n",
       "  </thead>\n",
       "  <tbody>\n",
       "    <tr>\n",
       "      <th>company</th>\n",
       "      <td>4.0</td>\n",
       "      <td>4.0</td>\n",
       "    </tr>\n",
       "    <tr>\n",
       "      <th>price_rupiah</th>\n",
       "      <td>83000.0</td>\n",
       "      <td>83000.0</td>\n",
       "    </tr>\n",
       "    <tr>\n",
       "      <th>diameter</th>\n",
       "      <td>17.0</td>\n",
       "      <td>17.0</td>\n",
       "    </tr>\n",
       "    <tr>\n",
       "      <th>topping</th>\n",
       "      <td>2.0</td>\n",
       "      <td>2.0</td>\n",
       "    </tr>\n",
       "    <tr>\n",
       "      <th>variant</th>\n",
       "      <td>15.0</td>\n",
       "      <td>15.0</td>\n",
       "    </tr>\n",
       "    <tr>\n",
       "      <th>size</th>\n",
       "      <td>0.0</td>\n",
       "      <td>0.0</td>\n",
       "    </tr>\n",
       "    <tr>\n",
       "      <th>extra_sauce</th>\n",
       "      <td>0.0</td>\n",
       "      <td>0.0</td>\n",
       "    </tr>\n",
       "    <tr>\n",
       "      <th>extra_cheese</th>\n",
       "      <td>1.0</td>\n",
       "      <td>1.0</td>\n",
       "    </tr>\n",
       "  </tbody>\n",
       "</table>\n",
       "</div>"
      ],
      "text/plain": [
       "                  122      104\n",
       "company           4.0      4.0\n",
       "price_rupiah  83000.0  83000.0\n",
       "diameter         17.0     17.0\n",
       "topping           2.0      2.0\n",
       "variant          15.0     15.0\n",
       "size              0.0      0.0\n",
       "extra_sauce       0.0      0.0\n",
       "extra_cheese      1.0      1.0"
      ]
     },
     "execution_count": 14,
     "metadata": {},
     "output_type": "execute_result"
    }
   ],
   "source": [
    "# Checking the structure of the data\n",
    "dataPizza.sample(2, random_state=1).T"
   ]
  },
  {
   "cell_type": "markdown",
   "id": "1f35c39f",
   "metadata": {
    "papermill": {
     "duration": 0.029563,
     "end_time": "2021-08-14T09:28:39.336115",
     "exception": false,
     "start_time": "2021-08-14T09:28:39.306552",
     "status": "completed"
    },
    "tags": []
   },
   "source": [
    "# **Visualize  The Data**\n",
    "\n",
    "the first think we have to do is visualize the data, because from there we can choose which way is good to this dataset."
   ]
  },
  {
   "cell_type": "code",
   "execution_count": 15,
   "id": "98896e21",
   "metadata": {
    "execution": {
     "iopub.execute_input": "2021-08-14T09:28:39.398873Z",
     "iopub.status.busy": "2021-08-14T09:28:39.398350Z",
     "iopub.status.idle": "2021-08-14T09:28:39.402253Z",
     "shell.execute_reply": "2021-08-14T09:28:39.402666Z",
     "shell.execute_reply.started": "2021-08-14T09:24:55.964991Z"
    },
    "papermill": {
     "duration": 0.036834,
     "end_time": "2021-08-14T09:28:39.402815",
     "exception": false,
     "start_time": "2021-08-14T09:28:39.365981",
     "status": "completed"
    },
    "tags": []
   },
   "outputs": [],
   "source": [
    "# Setting sns theme\n",
    "sns.set_theme(color_codes=True, style='darkgrid', palette='deep', font='sans-serif')"
   ]
  },
  {
   "cell_type": "code",
   "execution_count": 16,
   "id": "2d99d361",
   "metadata": {
    "execution": {
     "iopub.execute_input": "2021-08-14T09:28:39.465102Z",
     "iopub.status.busy": "2021-08-14T09:28:39.464541Z",
     "iopub.status.idle": "2021-08-14T09:28:40.103241Z",
     "shell.execute_reply": "2021-08-14T09:28:40.103668Z",
     "shell.execute_reply.started": "2021-08-14T09:24:55.972922Z"
    },
    "papermill": {
     "duration": 0.671237,
     "end_time": "2021-08-14T09:28:40.103826",
     "exception": false,
     "start_time": "2021-08-14T09:28:39.432589",
     "status": "completed"
    },
    "tags": []
   },
   "outputs": [
    {
     "data": {
      "text/plain": [
       "[]"
      ]
     },
     "execution_count": 16,
     "metadata": {},
     "output_type": "execute_result"
    },
    {
     "data": {
      "image/png": "[encoded data removed]",
      "text/plain": [
       "<Figure size 720x720 with 2 Axes>"
      ]
     },
     "metadata": {},
     "output_type": "display_data"
    }
   ],
   "source": [
    "# Constructing a heatmap to understand the correlation\n",
    "plt.figure(figsize=(10, 10))\n",
    "sns.heatmap(correlation, cbar=True, square=True, fmt='.1f', annot=True, annot_kws={'size': 8}, cmap='YlGnBu')\n",
    "plt.plot()"
   ]
  },
  {
   "cell_type": "code",
   "execution_count": 17,
   "id": "e2685c80",
   "metadata": {
    "execution": {
     "iopub.execute_input": "2021-08-14T09:28:40.173524Z",
     "iopub.status.busy": "2021-08-14T09:28:40.172896Z",
     "iopub.status.idle": "2021-08-14T09:28:40.441171Z",
     "shell.execute_reply": "2021-08-14T09:28:40.441615Z",
     "shell.execute_reply.started": "2021-08-14T09:24:56.805136Z"
    },
    "papermill": {
     "duration": 0.304551,
     "end_time": "2021-08-14T09:28:40.441781",
     "exception": false,
     "start_time": "2021-08-14T09:28:40.137230",
     "status": "completed"
    },
    "tags": []
   },
   "outputs": [
    {
     "data": {
      "image/png": "[encoded data removed]",
      "text/plain": [
       "<Figure size 432x288 with 1 Axes>"
      ]
     },
     "metadata": {},
     "output_type": "display_data"
    }
   ],
   "source": [
    "dataPizza.plot()\n",
    "plt.show()"
   ]
  },
  {
   "cell_type": "code",
   "execution_count": 18,
   "id": "fe5b2f65",
   "metadata": {
    "execution": {
     "iopub.execute_input": "2021-08-14T09:28:40.510987Z",
     "iopub.status.busy": "2021-08-14T09:28:40.510457Z",
     "iopub.status.idle": "2021-08-14T09:28:41.740342Z",
     "shell.execute_reply": "2021-08-14T09:28:41.739756Z",
     "shell.execute_reply.started": "2021-08-14T09:24:57.141434Z"
    },
    "papermill": {
     "duration": 1.265506,
     "end_time": "2021-08-14T09:28:41.740478",
     "exception": false,
     "start_time": "2021-08-14T09:28:40.474972",
     "status": "completed"
    },
    "tags": []
   },
   "outputs": [
    {
     "data": {
      "image/png": "[encoded data removed]",
      "text/plain": [
       "<Figure size 864x864 with 9 Axes>"
      ]
     },
     "metadata": {},
     "output_type": "display_data"
    }
   ],
   "source": [
    "dataPizza.hist(figsize=(12,12))\n",
    "plt.show()"
   ]
  },
  {
   "cell_type": "code",
   "execution_count": 19,
   "id": "4c8c492b",
   "metadata": {
    "execution": {
     "iopub.execute_input": "2021-08-14T09:28:41.838279Z",
     "iopub.status.busy": "2021-08-14T09:28:41.836174Z",
     "iopub.status.idle": "2021-08-14T09:28:42.088255Z",
     "shell.execute_reply": "2021-08-14T09:28:42.088645Z",
     "shell.execute_reply.started": "2021-08-14T09:24:58.744474Z"
    },
    "papermill": {
     "duration": 0.31318,
     "end_time": "2021-08-14T09:28:42.088807",
     "exception": false,
     "start_time": "2021-08-14T09:28:41.775627",
     "status": "completed"
    },
    "tags": []
   },
   "outputs": [
    {
     "data": {
      "image/png": "[encoded data removed]",
      "text/plain": [
       "<Figure size 432x288 with 1 Axes>"
      ]
     },
     "metadata": {},
     "output_type": "display_data"
    }
   ],
   "source": [
    "sns.regplot(x=dataPizza.price_rupiah, y=dataPizza.diameter, data=dataPizza)\n",
    "plt.xlim(0, 250000)\n",
    "plt.ylim(0, 25)\n",
    "plt.show()"
   ]
  },
  {
   "cell_type": "code",
   "execution_count": 20,
   "id": "ebe80516",
   "metadata": {
    "execution": {
     "iopub.execute_input": "2021-08-14T09:28:42.197443Z",
     "iopub.status.busy": "2021-08-14T09:28:42.185420Z",
     "iopub.status.idle": "2021-08-14T09:28:51.975136Z",
     "shell.execute_reply": "2021-08-14T09:28:51.974652Z",
     "shell.execute_reply.started": "2021-08-14T09:24:59.092970Z"
    },
    "papermill": {
     "duration": 9.850605,
     "end_time": "2021-08-14T09:28:51.975270",
     "exception": false,
     "start_time": "2021-08-14T09:28:42.124665",
     "status": "completed"
    },
    "tags": []
   },
   "outputs": [
    {
     "data": {
      "image/png": "[encoded data removed]",
      "text/plain": [
       "<Figure size 1440x1440 with 72 Axes>"
      ]
     },
     "metadata": {},
     "output_type": "display_data"
    }
   ],
   "source": [
    "sns.pairplot(dataPizza)\n",
    "plt.show()"
   ]
  },
  {
   "cell_type": "markdown",
   "id": "3a3bda96",
   "metadata": {
    "papermill": {
     "duration": 0.039661,
     "end_time": "2021-08-14T09:28:52.055563",
     "exception": false,
     "start_time": "2021-08-14T09:28:52.015902",
     "status": "completed"
    },
    "tags": []
   },
   "source": [
    "# **Splitting the Data**\n",
    "\n",
    "divide the data and split it using train test split module from sklearn."
   ]
  },
  {
   "cell_type": "code",
   "execution_count": 21,
   "id": "1bd133a4",
   "metadata": {
    "execution": {
     "iopub.execute_input": "2021-08-14T09:28:52.141870Z",
     "iopub.status.busy": "2021-08-14T09:28:52.141305Z",
     "iopub.status.idle": "2021-08-14T09:28:52.143191Z",
     "shell.execute_reply": "2021-08-14T09:28:52.143619Z",
     "shell.execute_reply.started": "2021-08-14T09:25:12.158830Z"
    },
    "papermill": {
     "duration": 0.047279,
     "end_time": "2021-08-14T09:28:52.143775",
     "exception": false,
     "start_time": "2021-08-14T09:28:52.096496",
     "status": "completed"
    },
    "tags": []
   },
   "outputs": [],
   "source": [
    "X = dataPizza.drop(['price_rupiah'], axis=1)\n",
    "y = dataPizza['price_rupiah']"
   ]
  },
  {
   "cell_type": "code",
   "execution_count": 22,
   "id": "2222bbb1",
   "metadata": {
    "execution": {
     "iopub.execute_input": "2021-08-14T09:28:52.226120Z",
     "iopub.status.busy": "2021-08-14T09:28:52.225547Z",
     "iopub.status.idle": "2021-08-14T09:28:52.229975Z",
     "shell.execute_reply": "2021-08-14T09:28:52.230463Z",
     "shell.execute_reply.started": "2021-08-14T09:25:12.167853Z"
    },
    "papermill": {
     "duration": 0.0471,
     "end_time": "2021-08-14T09:28:52.230616",
     "exception": false,
     "start_time": "2021-08-14T09:28:52.183516",
     "status": "completed"
    },
    "tags": []
   },
   "outputs": [],
   "source": [
    "trainX, testX, trainY, testY = train_test_split(\n",
    "    X, y,\n",
    "    test_size=.1,\n",
    "    shuffle=False,\n",
    "    random_state=0)"
   ]
  },
  {
   "cell_type": "markdown",
   "id": "55730da1",
   "metadata": {
    "papermill": {
     "duration": 0.039616,
     "end_time": "2021-08-14T09:28:52.310103",
     "exception": false,
     "start_time": "2021-08-14T09:28:52.270487",
     "status": "completed"
    },
    "tags": []
   },
   "source": [
    "# **Regression with XGBRegressor**\n",
    "\n",
    "since the data is for predicting numeric or price, from that, we can know, this data is a regression model, then i'm using XGBRegressor for that."
   ]
  },
  {
   "cell_type": "code",
   "execution_count": 23,
   "id": "4f2d2cb0",
   "metadata": {
    "execution": {
     "iopub.execute_input": "2021-08-14T09:28:52.392635Z",
     "iopub.status.busy": "2021-08-14T09:28:52.392085Z",
     "iopub.status.idle": "2021-08-14T09:28:58.302798Z",
     "shell.execute_reply": "2021-08-14T09:28:58.303264Z",
     "shell.execute_reply.started": "2021-08-14T09:25:12.185978Z"
    },
    "papermill": {
     "duration": 5.953489,
     "end_time": "2021-08-14T09:28:58.303442",
     "exception": false,
     "start_time": "2021-08-14T09:28:52.349953",
     "status": "completed"
    },
    "tags": []
   },
   "outputs": [],
   "source": [
    "# XGBoost uses an internal data structure DMatrix - which optimizes both memory effieciency and speed\n",
    "regressor = XGBRegressor(\n",
    "    gamma=0,\n",
    "    learning_rate=0.1,\n",
    "    max_depth=6,\n",
    "    n_estimators=1200,\n",
    "    n_jobs=16,\n",
    "    objective='reg:squarederror',\n",
    "    subsample=0.8,\n",
    "    scale_pos_weight=0,\n",
    "    reg_alpha=0,\n",
    "    reg_lambda=1,\n",
    "    booster='gbtree'\n",
    ")\n",
    "\n",
    "model = regressor.fit(trainX, trainY)"
   ]
  },
  {
   "cell_type": "markdown",
   "id": "e09feda9",
   "metadata": {
    "papermill": {
     "duration": 0.03975,
     "end_time": "2021-08-14T09:28:58.383488",
     "exception": false,
     "start_time": "2021-08-14T09:28:58.343738",
     "status": "completed"
    },
    "tags": []
   },
   "source": [
    "**Pipelines** are a simple way to keep your data preprocessing and modeling code organized. Specifically, a pipeline bundles preprocessing and modeling steps so you can use the whole bundle as if it were a single step."
   ]
  },
  {
   "cell_type": "code",
   "execution_count": 24,
   "id": "c7fb2587",
   "metadata": {
    "execution": {
     "iopub.execute_input": "2021-08-14T09:28:58.467432Z",
     "iopub.status.busy": "2021-08-14T09:28:58.466813Z",
     "iopub.status.idle": "2021-08-14T09:28:58.470771Z",
     "shell.execute_reply": "2021-08-14T09:28:58.471262Z",
     "shell.execute_reply.started": "2021-08-14T09:25:20.243737Z"
    },
    "papermill": {
     "duration": 0.046999,
     "end_time": "2021-08-14T09:28:58.471437",
     "exception": false,
     "start_time": "2021-08-14T09:28:58.424438",
     "status": "completed"
    },
    "tags": []
   },
   "outputs": [],
   "source": [
    "myPipeline = Pipeline(steps=[('model', model)])"
   ]
  },
  {
   "cell_type": "markdown",
   "id": "8937b5d2",
   "metadata": {
    "papermill": {
     "duration": 0.03996,
     "end_time": "2021-08-14T09:28:58.551756",
     "exception": false,
     "start_time": "2021-08-14T09:28:58.511796",
     "status": "completed"
    },
    "tags": []
   },
   "source": [
    "# **Model Evaluate**"
   ]
  },
  {
   "cell_type": "code",
   "execution_count": 25,
   "id": "1be07f98",
   "metadata": {
    "execution": {
     "iopub.execute_input": "2021-08-14T09:28:58.636995Z",
     "iopub.status.busy": "2021-08-14T09:28:58.636088Z",
     "iopub.status.idle": "2021-08-14T09:28:58.647283Z",
     "shell.execute_reply": "2021-08-14T09:28:58.646726Z",
     "shell.execute_reply.started": "2021-08-14T09:25:20.249117Z"
    },
    "papermill": {
     "duration": 0.055653,
     "end_time": "2021-08-14T09:28:58.647434",
     "exception": false,
     "start_time": "2021-08-14T09:28:58.591781",
     "status": "completed"
    },
    "tags": []
   },
   "outputs": [],
   "source": [
    "# predict X train\n",
    "trainPredict = myPipeline.predict(trainX)\n",
    "\n",
    "# predict X test  \n",
    "testPredict = myPipeline.predict(testX)"
   ]
  },
  {
   "cell_type": "code",
   "execution_count": 26,
   "id": "76f96ee1",
   "metadata": {
    "execution": {
     "iopub.execute_input": "2021-08-14T09:28:58.738267Z",
     "iopub.status.busy": "2021-08-14T09:28:58.736958Z",
     "iopub.status.idle": "2021-08-14T09:28:58.741222Z",
     "shell.execute_reply": "2021-08-14T09:28:58.741688Z",
     "shell.execute_reply.started": "2021-08-14T09:25:20.273845Z"
    },
    "papermill": {
     "duration": 0.053946,
     "end_time": "2021-08-14T09:28:58.741859",
     "exception": false,
     "start_time": "2021-08-14T09:28:58.687913",
     "status": "completed"
    },
    "tags": []
   },
   "outputs": [
    {
     "name": "stdout",
     "output_type": "stream",
     "text": [
      "R-Squared : 0.9999999999992067\n",
      "MAE : 0.0315362338362069\n",
      "MSE : 0.0016744219023605872\n",
      "RMSE : 0.040919700663135196\n",
      "Median : 0.02734375\n"
     ]
    }
   ],
   "source": [
    "# Train X \n",
    "\n",
    "# R Squared \n",
    "trainRsquared = metrics.r2_score(trainY, trainPredict)\n",
    "print(f'R-Squared : {trainRsquared}')\n",
    "\n",
    "# Mean Absolute Error\n",
    "trainMAE = metrics.mean_absolute_error(trainY, trainPredict)\n",
    "print(f'MAE : {trainMAE}')\n",
    "\n",
    "#  Mean Squared Error\n",
    "trainMSE = metrics.mean_squared_error(trainY, trainPredict)\n",
    "print(f'MSE : {trainMSE}')\n",
    "\n",
    "#  Root Mean Squared Error\n",
    "trainRMSE = math.sqrt(metrics.mean_squared_error(trainY, trainPredict))\n",
    "print(f'RMSE : {trainRMSE}')\n",
    "\n",
    "# Median\n",
    "trainM = metrics.median_absolute_error(trainY, trainPredict)\n",
    "print(f'Median : {trainM}')"
   ]
  },
  {
   "cell_type": "code",
   "execution_count": 27,
   "id": "f2720aaa",
   "metadata": {
    "execution": {
     "iopub.execute_input": "2021-08-14T09:28:58.832359Z",
     "iopub.status.busy": "2021-08-14T09:28:58.831462Z",
     "iopub.status.idle": "2021-08-14T09:28:58.835135Z",
     "shell.execute_reply": "2021-08-14T09:28:58.835520Z",
     "shell.execute_reply.started": "2021-08-14T09:25:20.288231Z"
    },
    "papermill": {
     "duration": 0.053094,
     "end_time": "2021-08-14T09:28:58.835681",
     "exception": false,
     "start_time": "2021-08-14T09:28:58.782587",
     "status": "completed"
    },
    "tags": []
   },
   "outputs": [
    {
     "name": "stdout",
     "output_type": "stream",
     "text": [
      "R-Squared : 0.961350656843745\n",
      "MAE : 3909.489483173077\n",
      "MSE : 28029006.784460213\n",
      "RMSE : 5294.2427961381045\n",
      "Median : 2857.09375\n"
     ]
    }
   ],
   "source": [
    "# Test X  \n",
    "\n",
    "# R Squared \n",
    "testRsquared = metrics.r2_score(testY, testPredict)\n",
    "print(f'R-Squared : {testRsquared}')\n",
    "\n",
    "# Mean Absolute Error\n",
    "testMAE = metrics.mean_absolute_error(testY, testPredict)\n",
    "print(f'MAE : {testMAE}')\n",
    "\n",
    "#  Mean Squared Error\n",
    "testMSE = metrics.mean_squared_error(testY, testPredict)\n",
    "print(f'MSE : {testMSE}')\n",
    "\n",
    "#  Root Mean Squared Error\n",
    "testRMSE = math.sqrt(metrics.mean_squared_error(testY, testPredict))\n",
    "print(f'RMSE : {testRMSE}')\n",
    "\n",
    "# Median\n",
    "testM = metrics.median_absolute_error(testY, testPredict)\n",
    "print(f'Median : {testM}')"
   ]
  },
  {
   "cell_type": "code",
   "execution_count": 28,
   "id": "df26c2b8",
   "metadata": {
    "execution": {
     "iopub.execute_input": "2021-08-14T09:28:58.935207Z",
     "iopub.status.busy": "2021-08-14T09:28:58.934541Z",
     "iopub.status.idle": "2021-08-14T09:28:59.091549Z",
     "shell.execute_reply": "2021-08-14T09:28:59.090935Z",
     "shell.execute_reply.started": "2021-08-14T09:26:20.080340Z"
    },
    "papermill": {
     "duration": 0.215426,
     "end_time": "2021-08-14T09:28:59.091689",
     "exception": false,
     "start_time": "2021-08-14T09:28:58.876263",
     "status": "completed"
    },
    "tags": []
   },
   "outputs": [
    {
     "data": {
      "image/png": "[encoded data removed]",
      "text/plain": [
       "<Figure size 432x288 with 1 Axes>"
      ]
     },
     "metadata": {},
     "output_type": "display_data"
    }
   ],
   "source": [
    "# Train Predicted Value & Actual Value\n",
    "plt.scatter(trainY, trainPredict)\n",
    "plt.title('Actual Value & Predicted Value')\n",
    "plt.xlabel('Actual Value')\n",
    "plt.ylabel('Predicted Value')\n",
    "plt.xlim(0, 250000)\n",
    "plt.ylim(0, 250000)\n",
    "plt.grid(True)\n",
    "plt.show()"
   ]
  },
  {
   "cell_type": "code",
   "execution_count": 29,
   "id": "d0ec05ed",
   "metadata": {
    "execution": {
     "iopub.execute_input": "2021-08-14T09:28:59.198451Z",
     "iopub.status.busy": "2021-08-14T09:28:59.194465Z",
     "iopub.status.idle": "2021-08-14T09:28:59.435905Z",
     "shell.execute_reply": "2021-08-14T09:28:59.435298Z",
     "shell.execute_reply.started": "2021-08-14T09:28:04.154672Z"
    },
    "papermill": {
     "duration": 0.302658,
     "end_time": "2021-08-14T09:28:59.436069",
     "exception": false,
     "start_time": "2021-08-14T09:28:59.133411",
     "status": "completed"
    },
    "tags": []
   },
   "outputs": [
    {
     "data": {
      "image/png": "[encoded data removed]",
      "text/plain": [
       "<Figure size 432x288 with 1 Axes>"
      ]
     },
     "metadata": {},
     "output_type": "display_data"
    }
   ],
   "source": [
    "sns.regplot(x=trainY, y=trainPredict, marker=\"+\")\n",
    "plt.title('Actual Value & Predicted Value')\n",
    "plt.xlabel('Actual Value')\n",
    "plt.ylabel('Predicted Value')\n",
    "plt.xlim(0, 250000)\n",
    "plt.ylim(0, 250000)\n",
    "plt.grid(True)\n",
    "plt.subplot()\n",
    "plt.show()"
   ]
  },
  {
   "cell_type": "code",
   "execution_count": 30,
   "id": "b78385c5",
   "metadata": {
    "execution": {
     "iopub.execute_input": "2021-08-14T09:28:59.542157Z",
     "iopub.status.busy": "2021-08-14T09:28:59.533431Z",
     "iopub.status.idle": "2021-08-14T09:28:59.715777Z",
     "shell.execute_reply": "2021-08-14T09:28:59.715198Z",
     "shell.execute_reply.started": "2021-08-14T09:28:09.905460Z"
    },
    "papermill": {
     "duration": 0.234873,
     "end_time": "2021-08-14T09:28:59.715909",
     "exception": false,
     "start_time": "2021-08-14T09:28:59.481036",
     "status": "completed"
    },
    "tags": []
   },
   "outputs": [
    {
     "data": {
      "image/png": "[encoded data removed]",
      "text/plain": [
       "<Figure size 432x288 with 1 Axes>"
      ]
     },
     "metadata": {},
     "output_type": "display_data"
    }
   ],
   "source": [
    "# Test Predicted Value & Actual Value\n",
    "plt.scatter(testY, testPredict)\n",
    "plt.title('Actual Value & Predicted Value')\n",
    "plt.xlabel('Actual Value')\n",
    "plt.ylabel('Predicted Value')\n",
    "plt.xlim(0, 150000)\n",
    "plt.ylim(0, 150000)\n",
    "plt.grid(True)\n",
    "plt.show()"
   ]
  },
  {
   "cell_type": "code",
   "execution_count": 31,
   "id": "6d48f4b4",
   "metadata": {
    "execution": {
     "iopub.execute_input": "2021-08-14T09:28:59.824466Z",
     "iopub.status.busy": "2021-08-14T09:28:59.809643Z",
     "iopub.status.idle": "2021-08-14T09:29:00.083287Z",
     "shell.execute_reply": "2021-08-14T09:29:00.082667Z",
     "shell.execute_reply.started": "2021-08-14T09:28:12.755704Z"
    },
    "papermill": {
     "duration": 0.323876,
     "end_time": "2021-08-14T09:29:00.083434",
     "exception": false,
     "start_time": "2021-08-14T09:28:59.759558",
     "status": "completed"
    },
    "tags": []
   },
   "outputs": [
    {
     "data": {
      "image/png": "[encoded data removed]",
      "text/plain": [
       "<Figure size 432x288 with 1 Axes>"
      ]
     },
     "metadata": {},
     "output_type": "display_data"
    }
   ],
   "source": [
    "sns.regplot(x=testY, y=testPredict, marker=\"+\")\n",
    "plt.title('Actual Value & Predicted Value')\n",
    "plt.xlabel('Actual Value')\n",
    "plt.ylabel('Predicted Value')\n",
    "plt.xlim(0, 150000)\n",
    "plt.ylim(0, 150000)\n",
    "plt.grid(True)\n",
    "plt.subplot()\n",
    "plt.show()"
   ]
  },
  {
   "cell_type": "markdown",
   "id": "93be09c8",
   "metadata": {
    "papermill": {
     "duration": 0.04443,
     "end_time": "2021-08-14T09:29:00.173377",
     "exception": false,
     "start_time": "2021-08-14T09:29:00.128947",
     "status": "completed"
    },
    "tags": []
   },
   "source": [
    "# **Prediction**\n",
    "\n",
    "output actual data with prediction data into csv file"
   ]
  },
  {
   "cell_type": "code",
   "execution_count": 32,
   "id": "386c54c9",
   "metadata": {
    "execution": {
     "iopub.execute_input": "2021-08-14T09:29:00.267729Z",
     "iopub.status.busy": "2021-08-14T09:29:00.267155Z",
     "iopub.status.idle": "2021-08-14T09:29:00.273166Z",
     "shell.execute_reply": "2021-08-14T09:29:00.272715Z",
     "shell.execute_reply.started": "2021-08-14T09:25:21.578735Z"
    },
    "papermill": {
     "duration": 0.055244,
     "end_time": "2021-08-14T09:29:00.273299",
     "exception": false,
     "start_time": "2021-08-14T09:29:00.218055",
     "status": "completed"
    },
    "tags": []
   },
   "outputs": [],
   "source": [
    "trainOutput = pd.DataFrame({\n",
    "    'Train Actual Price': trainY,\n",
    "    'Train Predicted Price ': trainPredict})\n",
    "\n",
    "trainOutput.to_csv('Train Prediction.csv', index=False)"
   ]
  },
  {
   "cell_type": "code",
   "execution_count": 33,
   "id": "670887cb",
   "metadata": {
    "execution": {
     "iopub.execute_input": "2021-08-14T09:29:00.368204Z",
     "iopub.status.busy": "2021-08-14T09:29:00.367436Z",
     "iopub.status.idle": "2021-08-14T09:29:00.371026Z",
     "shell.execute_reply": "2021-08-14T09:29:00.370449Z",
     "shell.execute_reply.started": "2021-08-14T09:25:21.589817Z"
    },
    "papermill": {
     "duration": 0.053259,
     "end_time": "2021-08-14T09:29:00.371156",
     "exception": false,
     "start_time": "2021-08-14T09:29:00.317897",
     "status": "completed"
    },
    "tags": []
   },
   "outputs": [],
   "source": [
    "testOutput = pd.DataFrame({\n",
    "    'Test Actual Price': testY,\n",
    "    'Test Predicted Price ': testPredict})\n",
    "\n",
    "testOutput.to_csv('Test Prediction.csv', index=False)"
   ]
  },
  {
   "cell_type": "code",
   "execution_count": 34,
   "id": "5ae2138d",
   "metadata": {
    "execution": {
     "iopub.execute_input": "2021-08-14T09:29:00.472797Z",
     "iopub.status.busy": "2021-08-14T09:29:00.472215Z",
     "iopub.status.idle": "2021-08-14T09:29:00.488897Z",
     "shell.execute_reply": "2021-08-14T09:29:00.488126Z",
     "shell.execute_reply.started": "2021-08-14T09:25:21.602442Z"
    },
    "papermill": {
     "duration": 0.073121,
     "end_time": "2021-08-14T09:29:00.489106",
     "exception": false,
     "start_time": "2021-08-14T09:29:00.415985",
     "status": "completed"
    },
    "tags": []
   },
   "outputs": [
    {
     "data": {
      "text/html": [
       "<div>\n",
       "<style scoped>\n",
       "    .dataframe tbody tr th:only-of-type {\n",
       "        vertical-align: middle;\n",
       "    }\n",
       "\n",
       "    .dataframe tbody tr th {\n",
       "        vertical-align: top;\n",
       "    }\n",
       "\n",
       "    .dataframe thead th {\n",
       "        text-align: right;\n",
       "    }\n",
       "</style>\n",
       "<table border=\"1\" class=\"dataframe\">\n",
       "  <thead>\n",
       "    <tr style=\"text-align: right;\">\n",
       "      <th></th>\n",
       "      <th>Train Actual Price</th>\n",
       "      <th>Train Predicted Price</th>\n",
       "    </tr>\n",
       "  </thead>\n",
       "  <tbody>\n",
       "    <tr>\n",
       "      <th>0</th>\n",
       "      <td>235000.0</td>\n",
       "      <td>234999.920</td>\n",
       "    </tr>\n",
       "    <tr>\n",
       "      <th>1</th>\n",
       "      <td>198000.0</td>\n",
       "      <td>198000.080</td>\n",
       "    </tr>\n",
       "    <tr>\n",
       "      <th>2</th>\n",
       "      <td>120000.0</td>\n",
       "      <td>120000.030</td>\n",
       "    </tr>\n",
       "    <tr>\n",
       "      <th>3</th>\n",
       "      <td>155000.0</td>\n",
       "      <td>154999.920</td>\n",
       "    </tr>\n",
       "    <tr>\n",
       "      <th>4</th>\n",
       "      <td>248000.0</td>\n",
       "      <td>247999.940</td>\n",
       "    </tr>\n",
       "    <tr>\n",
       "      <th>5</th>\n",
       "      <td>140000.0</td>\n",
       "      <td>139999.970</td>\n",
       "    </tr>\n",
       "    <tr>\n",
       "      <th>6</th>\n",
       "      <td>110000.0</td>\n",
       "      <td>109999.980</td>\n",
       "    </tr>\n",
       "    <tr>\n",
       "      <th>7</th>\n",
       "      <td>70000.0</td>\n",
       "      <td>70000.016</td>\n",
       "    </tr>\n",
       "    <tr>\n",
       "      <th>8</th>\n",
       "      <td>90000.0</td>\n",
       "      <td>89999.980</td>\n",
       "    </tr>\n",
       "    <tr>\n",
       "      <th>9</th>\n",
       "      <td>90000.0</td>\n",
       "      <td>90000.030</td>\n",
       "    </tr>\n",
       "  </tbody>\n",
       "</table>\n",
       "</div>"
      ],
      "text/plain": [
       "   Train Actual Price  Train Predicted Price \n",
       "0            235000.0              234999.920\n",
       "1            198000.0              198000.080\n",
       "2            120000.0              120000.030\n",
       "3            155000.0              154999.920\n",
       "4            248000.0              247999.940\n",
       "5            140000.0              139999.970\n",
       "6            110000.0              109999.980\n",
       "7             70000.0               70000.016\n",
       "8             90000.0               89999.980\n",
       "9             90000.0               90000.030"
      ]
     },
     "execution_count": 34,
     "metadata": {},
     "output_type": "execute_result"
    }
   ],
   "source": [
    "trainPredictedOutput = pd.read_csv('./Train Prediction.csv')\n",
    "trainPredictedOutput.head(10)"
   ]
  },
  {
   "cell_type": "code",
   "execution_count": 35,
   "id": "18e3db36",
   "metadata": {
    "execution": {
     "iopub.execute_input": "2021-08-14T09:29:00.604565Z",
     "iopub.status.busy": "2021-08-14T09:29:00.603774Z",
     "iopub.status.idle": "2021-08-14T09:29:00.608994Z",
     "shell.execute_reply": "2021-08-14T09:29:00.608099Z",
     "shell.execute_reply.started": "2021-08-14T09:25:21.625638Z"
    },
    "papermill": {
     "duration": 0.060455,
     "end_time": "2021-08-14T09:29:00.609155",
     "exception": false,
     "start_time": "2021-08-14T09:29:00.548700",
     "status": "completed"
    },
    "tags": []
   },
   "outputs": [
    {
     "data": {
      "text/html": [
       "<div>\n",
       "<style scoped>\n",
       "    .dataframe tbody tr th:only-of-type {\n",
       "        vertical-align: middle;\n",
       "    }\n",
       "\n",
       "    .dataframe tbody tr th {\n",
       "        vertical-align: top;\n",
       "    }\n",
       "\n",
       "    .dataframe thead th {\n",
       "        text-align: right;\n",
       "    }\n",
       "</style>\n",
       "<table border=\"1\" class=\"dataframe\">\n",
       "  <thead>\n",
       "    <tr style=\"text-align: right;\">\n",
       "      <th></th>\n",
       "      <th>Test Actual Price</th>\n",
       "      <th>Test Predicted Price</th>\n",
       "    </tr>\n",
       "  </thead>\n",
       "  <tbody>\n",
       "    <tr>\n",
       "      <th>0</th>\n",
       "      <td>119000.0</td>\n",
       "      <td>116049.350</td>\n",
       "    </tr>\n",
       "    <tr>\n",
       "      <th>1</th>\n",
       "      <td>126500.0</td>\n",
       "      <td>123642.910</td>\n",
       "    </tr>\n",
       "    <tr>\n",
       "      <th>2</th>\n",
       "      <td>75000.0</td>\n",
       "      <td>63111.516</td>\n",
       "    </tr>\n",
       "    <tr>\n",
       "      <th>3</th>\n",
       "      <td>46000.0</td>\n",
       "      <td>51736.145</td>\n",
       "    </tr>\n",
       "    <tr>\n",
       "      <th>4</th>\n",
       "      <td>72000.0</td>\n",
       "      <td>74386.740</td>\n",
       "    </tr>\n",
       "    <tr>\n",
       "      <th>5</th>\n",
       "      <td>49000.0</td>\n",
       "      <td>58892.480</td>\n",
       "    </tr>\n",
       "    <tr>\n",
       "      <th>6</th>\n",
       "      <td>83000.0</td>\n",
       "      <td>82999.940</td>\n",
       "    </tr>\n",
       "    <tr>\n",
       "      <th>7</th>\n",
       "      <td>96000.0</td>\n",
       "      <td>96497.266</td>\n",
       "    </tr>\n",
       "    <tr>\n",
       "      <th>8</th>\n",
       "      <td>39000.0</td>\n",
       "      <td>38158.566</td>\n",
       "    </tr>\n",
       "    <tr>\n",
       "      <th>9</th>\n",
       "      <td>72000.0</td>\n",
       "      <td>77156.780</td>\n",
       "    </tr>\n",
       "  </tbody>\n",
       "</table>\n",
       "</div>"
      ],
      "text/plain": [
       "   Test Actual Price  Test Predicted Price \n",
       "0           119000.0             116049.350\n",
       "1           126500.0             123642.910\n",
       "2            75000.0              63111.516\n",
       "3            46000.0              51736.145\n",
       "4            72000.0              74386.740\n",
       "5            49000.0              58892.480\n",
       "6            83000.0              82999.940\n",
       "7            96000.0              96497.266\n",
       "8            39000.0              38158.566\n",
       "9            72000.0              77156.780"
      ]
     },
     "execution_count": 35,
     "metadata": {},
     "output_type": "execute_result"
    }
   ],
   "source": [
    "testPredictedOutput = pd.read_csv('./Test Prediction.csv')\n",
    "testPredictedOutput.head(10)"
   ]
  },
  {
   "cell_type": "markdown",
   "id": "1869650b",
   "metadata": {
    "papermill": {
     "duration": 0.045385,
     "end_time": "2021-08-14T09:29:00.700605",
     "exception": false,
     "start_time": "2021-08-14T09:29:00.655220",
     "status": "completed"
    },
    "tags": []
   },
   "source": [
    "# Going Fine and Nice !!!\n",
    "# Great !!!"
   ]
  }
 ],
 "metadata": {
  "kernelspec": {
   "display_name": "Python 3",
   "language": "python",
   "name": "python3"
  },
  "language_info": {
   "codemirror_mode": {
    "name": "ipython",
    "version": 3
   },
   "file_extension": ".py",
   "mimetype": "text/x-python",
   "name": "python",
   "nbconvert_exporter": "python",
   "pygments_lexer": "ipython3",
   "version": "3.7.10"
  },
  "papermill": {
   "default_parameters": {},
   "duration": 32.788314,
   "end_time": "2021-08-14T09:29:02.415754",
   "environment_variables": {},
   "exception": null,
   "input_path": "__notebook__.ipynb",
   "output_path": "__notebook__.ipynb",
   "parameters": {},
   "start_time": "2021-08-14T09:28:29.627440",
   "version": "2.3.3"
  }
 },
 "nbformat": 4,
 "nbformat_minor": 5
}
