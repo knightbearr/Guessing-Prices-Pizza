{
  "nbformat": 4,
  "nbformat_minor": 5,
  "metadata": {
    "kernelspec": {
      "display_name": "Python 3",
      "language": "python",
      "name": "python3"
    },
    "language_info": {
      "codemirror_mode": {
        "name": "ipython",
        "version": 3
      },
      "file_extension": ".py",
      "mimetype": "text/x-python",
      "name": "python",
      "nbconvert_exporter": "python",
      "pygments_lexer": "ipython3",
      "version": "3.8.7"
    },
    "colab": {
      "name": "Pizza by knightbearr.ipynb",
      "provenance": [],
      "collapsed_sections": []
    }
  },
  "cells": [
    {
      "cell_type": "markdown",
      "metadata": {
        "id": "QFc_iOv4-51r"
      },
      "source": [
        "# **Guessing The Prices Of Pizza using Linear Regression**\n",
        "\n",
        "Kita akan membuat suatu program Machine Learning menebak harga pizza menggunakan model ***Linear Regression***, karena data yang kita gunakan cocok dengan model Machine Learning yang satu ini.\n",
        "\n",
        "***Linear Regression*** memodelkan hubungan antara sebuah ***response variable***, dengan sebuah ***explanatory variable*** sebagai suatu garis lurus (Linear)"
      ],
      "id": "QFc_iOv4-51r"
    },
    {
      "cell_type": "markdown",
      "metadata": {
        "id": "7j5q4NNmBMeE"
      },
      "source": [
        "## **Import Module**\n",
        "\n",
        "Import Module yang akan kita gunakan untuk penelitian ini."
      ],
      "id": "7j5q4NNmBMeE"
    },
    {
      "cell_type": "code",
      "metadata": {
        "id": "rolled-benefit"
      },
      "source": [
        "import pandas as pd\n",
        "import matplotlib.pyplot as plt\n",
        "import numpy as np\n",
        "from sklearn.linear_model import LinearRegression\n",
        "from sklearn.metrics import r2_score"
      ],
      "id": "rolled-benefit",
      "execution_count": 2,
      "outputs": []
    },
    {
      "cell_type": "markdown",
      "metadata": {
        "id": "LfvkOFw4BYtP"
      },
      "source": [
        "## **Dataset**\n",
        "\n",
        "Saya menggunakan data yang saya cari di internet, harga pizza dan diameter nya.\n",
        "\n",
        "bisa dilihat saya menggunakan struktur data dictionary untuk data yang akan kita gunakan, dan merubahnya ke dalam ***DataFrame*** yang ada dalam module ***pandas*** yang sudah kita import di atas"
      ],
      "id": "LfvkOFw4BYtP"
    },
    {
      "cell_type": "code",
      "metadata": {
        "id": "quantitative-costa",
        "outputId": "9a864c18-714f-405c-ab36-b5fdacaa4f70",
        "colab": {
          "base_uri": "https://localhost:8080/",
          "height": 263
        }
      },
      "source": [
        "pizza = {\n",
        "    'diameter': [6, 8, 10, 12, 14, 18, 20],\n",
        "    'harga': [7, 9, 11, 13, 15.5, 18.5, 22] # harga dalam dollar\n",
        "}\n",
        "\n",
        "pizza_df = pd.DataFrame(pizza)\n",
        "pizza_df"
      ],
      "id": "quantitative-costa",
      "execution_count": 3,
      "outputs": [
        {
          "output_type": "execute_result",
          "data": {
            "text/html": [
              "<div>\n",
              "<style scoped>\n",
              "    .dataframe tbody tr th:only-of-type {\n",
              "        vertical-align: middle;\n",
              "    }\n",
              "\n",
              "    .dataframe tbody tr th {\n",
              "        vertical-align: top;\n",
              "    }\n",
              "\n",
              "    .dataframe thead th {\n",
              "        text-align: right;\n",
              "    }\n",
              "</style>\n",
              "<table border=\"1\" class=\"dataframe\">\n",
              "  <thead>\n",
              "    <tr style=\"text-align: right;\">\n",
              "      <th></th>\n",
              "      <th>diameter</th>\n",
              "      <th>harga</th>\n",
              "    </tr>\n",
              "  </thead>\n",
              "  <tbody>\n",
              "    <tr>\n",
              "      <th>0</th>\n",
              "      <td>6</td>\n",
              "      <td>7.0</td>\n",
              "    </tr>\n",
              "    <tr>\n",
              "      <th>1</th>\n",
              "      <td>8</td>\n",
              "      <td>9.0</td>\n",
              "    </tr>\n",
              "    <tr>\n",
              "      <th>2</th>\n",
              "      <td>10</td>\n",
              "      <td>11.0</td>\n",
              "    </tr>\n",
              "    <tr>\n",
              "      <th>3</th>\n",
              "      <td>12</td>\n",
              "      <td>13.0</td>\n",
              "    </tr>\n",
              "    <tr>\n",
              "      <th>4</th>\n",
              "      <td>14</td>\n",
              "      <td>15.5</td>\n",
              "    </tr>\n",
              "    <tr>\n",
              "      <th>5</th>\n",
              "      <td>18</td>\n",
              "      <td>18.5</td>\n",
              "    </tr>\n",
              "    <tr>\n",
              "      <th>6</th>\n",
              "      <td>20</td>\n",
              "      <td>22.0</td>\n",
              "    </tr>\n",
              "  </tbody>\n",
              "</table>\n",
              "</div>"
            ],
            "text/plain": [
              "   diameter  harga\n",
              "0         6    7.0\n",
              "1         8    9.0\n",
              "2        10   11.0\n",
              "3        12   13.0\n",
              "4        14   15.5\n",
              "5        18   18.5\n",
              "6        20   22.0"
            ]
          },
          "metadata": {
            "tags": []
          },
          "execution_count": 3
        }
      ]
    },
    {
      "cell_type": "markdown",
      "metadata": {
        "id": "uDkRoCvrCNFR"
      },
      "source": [
        "## **Data Visualitation**\n",
        "\n",
        "Data Vitualitation using matplotlib, saya menggunakan plotting dalam bentuk ***scatter***."
      ],
      "id": "uDkRoCvrCNFR"
    },
    {
      "cell_type": "code",
      "metadata": {
        "colab": {
          "base_uri": "https://localhost:8080/",
          "height": 294
        },
        "id": "funded-riverside",
        "outputId": "b06dffb6-f185-44b9-98e8-01f8bc692a42"
      },
      "source": [
        "pizza_df.plot(kind='scatter', x='diameter', y='harga')\n",
        "\n",
        "plt.title('Perbandingan Diameter dan Harga Pizza')\n",
        "plt.xlabel('Diameter (inch)')\n",
        "plt.ylabel('Harga (dollar)')\n",
        "plt.xlim(0, 25)\n",
        "plt.ylim(0, 25)\n",
        "plt.grid(True)\n",
        "plt.show()"
      ],
      "id": "funded-riverside",
      "execution_count": 4,
      "outputs": [
        {
          "output_type": "display_data",
          "data": {
            "image/png": "[encoded data removed]",
            "text/plain": [
              "<Figure size 432x288 with 1 Axes>"
            ]
          },
          "metadata": {
            "tags": [],
            "needs_background": "light"
          }
        }
      ]
    },
    {
      "cell_type": "markdown",
      "metadata": {
        "id": "HmwcbOKGCpg5"
      },
      "source": [
        "## **Penyesuaian Dataset**\n",
        "\n",
        "Penyesuaian Dataset, kita akan memisahkan data yang ada kedalam dua variable, yaitu ***X = Feature***, dan ***y = Target***."
      ],
      "id": "HmwcbOKGCpg5"
    },
    {
      "cell_type": "code",
      "metadata": {
        "colab": {
          "base_uri": "https://localhost:8080/"
        },
        "id": "proprietary-stockholm",
        "outputId": "2dfb1d4e-d32c-44b6-da4f-20c6d64ebf59"
      },
      "source": [
        "X = np.array(pizza_df['diameter']) # Variable Feature\n",
        "y = np.array(pizza_df['harga']) # Variable Target\n",
        "\n",
        "print(f'X: {X}')\n",
        "print(f'y: {y}')"
      ],
      "id": "proprietary-stockholm",
      "execution_count": 5,
      "outputs": [
        {
          "output_type": "stream",
          "text": [
            "X: [ 6  8 10 12 14 18 20]\n",
            "y: [ 7.   9.  11.  13.  15.5 18.5 22. ]\n"
          ],
          "name": "stdout"
        }
      ]
    },
    {
      "cell_type": "markdown",
      "metadata": {
        "id": "ZfbQBuGQC9QV"
      },
      "source": [
        "## **Mereshape**\n",
        "\n",
        "We must reshape the ***Feature*** since bentuk nya bukan dua dimensi, jadi kita harus merubah data ***Feature*** kedalam bentuk dua dimensi menggunakan fungsi ***reshape()***"
      ],
      "id": "ZfbQBuGQC9QV"
    },
    {
      "cell_type": "code",
      "metadata": {
        "colab": {
          "base_uri": "https://localhost:8080/"
        },
        "id": "biological-sector",
        "outputId": "5205439e-c97c-4ccf-f98f-8f3945185f61"
      },
      "source": [
        "X = X.reshape(-1, 1)\n",
        "X.shape"
      ],
      "id": "biological-sector",
      "execution_count": 6,
      "outputs": [
        {
          "output_type": "execute_result",
          "data": {
            "text/plain": [
              "(7, 1)"
            ]
          },
          "metadata": {
            "tags": []
          },
          "execution_count": 6
        }
      ]
    },
    {
      "cell_type": "code",
      "metadata": {
        "colab": {
          "base_uri": "https://localhost:8080/"
        },
        "id": "sapphire-hurricane",
        "outputId": "55f2c772-6559-44b9-d713-e09d34f00862"
      },
      "source": [
        "X # lihat, data Feature kita telah berubah menjadi bentuk dua dimensi."
      ],
      "id": "sapphire-hurricane",
      "execution_count": 7,
      "outputs": [
        {
          "output_type": "execute_result",
          "data": {
            "text/plain": [
              "array([[ 6],\n",
              "       [ 8],\n",
              "       [10],\n",
              "       [12],\n",
              "       [14],\n",
              "       [18],\n",
              "       [20]])"
            ]
          },
          "metadata": {
            "tags": []
          },
          "execution_count": 7
        }
      ]
    },
    {
      "cell_type": "markdown",
      "metadata": {
        "id": "-MmxLekpDbHv"
      },
      "source": [
        "## **Training Model**\n",
        "\n",
        "Disini kita akan melatih model kita menggunakan ***Linear Regression***, tampung model ***LinearRegression*** kedalam variable model, dan latih Feature dan Target dengan fungsi ***fit()***"
      ],
      "id": "-MmxLekpDbHv"
    },
    {
      "cell_type": "code",
      "metadata": {
        "colab": {
          "base_uri": "https://localhost:8080/"
        },
        "id": "appropriate-accuracy",
        "outputId": "c12fcf08-c578-49cc-e487-fbadac45e43b"
      },
      "source": [
        "model = LinearRegression()\n",
        "model.fit(X, y)"
      ],
      "id": "appropriate-accuracy",
      "execution_count": 8,
      "outputs": [
        {
          "output_type": "execute_result",
          "data": {
            "text/plain": [
              "LinearRegression(copy_X=True, fit_intercept=True, n_jobs=None, normalize=False)"
            ]
          },
          "metadata": {
            "tags": []
          },
          "execution_count": 8
        }
      ]
    },
    {
      "cell_type": "markdown",
      "metadata": {
        "id": "Xv2xtKk_EG1_"
      },
      "source": [
        "## **Visualitation The Linear Regression Model**\n",
        "\n",
        "kita akan memvisualisasikan Regressi Model menggunakan ***Matplotlib*** dan ***Numpy***."
      ],
      "id": "Xv2xtKk_EG1_"
    },
    {
      "cell_type": "code",
      "metadata": {
        "id": "choice-owner"
      },
      "source": [
        "X_vis = np.array([0, 25]).reshape(-1, 1) # 0, 25 this code means for setting the line limit.\n",
        "y_vis = model.predict(X_vis) # this code is for memvisualisasikan garis regressi pada plot"
      ],
      "id": "choice-owner",
      "execution_count": 9,
      "outputs": []
    },
    {
      "cell_type": "code",
      "metadata": {
        "colab": {
          "base_uri": "https://localhost:8080/",
          "height": 294
        },
        "id": "clear-blake",
        "outputId": "922167f4-e756-4e75-ab7b-286e97f24a0e"
      },
      "source": [
        "plt.scatter(X, y)\n",
        "plt.plot(X_vis, y_vis, '-r')\n",
        "\n",
        "plt.title('Perbandingan Diameter dan Harga Pizza')\n",
        "plt.xlabel('Diameter (inch)')\n",
        "plt.ylabel('Harga (dollar)')\n",
        "plt.xlim(0, 25)\n",
        "plt.ylim(0, 25)\n",
        "plt.grid(True)\n",
        "plt.show()"
      ],
      "id": "clear-blake",
      "execution_count": 10,
      "outputs": [
        {
          "output_type": "display_data",
          "data": {
            "image/png": "[encoded data removed]",
            "text/plain": [
              "<Figure size 432x288 with 1 Axes>"
            ]
          },
          "metadata": {
            "tags": [],
            "needs_background": "light"
          }
        }
      ]
    },
    {
      "cell_type": "markdown",
      "metadata": {
        "id": "nlX6GkSPGGc5"
      },
      "source": [
        "## **Predict The Pizza**\n",
        "\n",
        "dan disini kita akan memprediksi harga dari diameter pizza yang kita input."
      ],
      "id": "nlX6GkSPGGc5"
    },
    {
      "cell_type": "code",
      "metadata": {
        "id": "attractive-template",
        "outputId": "a0665b86-af41-4393-b05a-f8228da65b1d",
        "colab": {
          "base_uri": "https://localhost:8080/"
        }
      },
      "source": [
        "input_data = (8)\n",
        "\n",
        "# Changing the data type to numpy array\n",
        "change_input = np.asarray(input_data)\n",
        "\n",
        "# Reshape the numpy array as we are predicting for one instance\n",
        "reshape_array = change_input.reshape(1, -1)\n",
        "\n",
        "prediction = model.predict(reshape_array)\n",
        "print(prediction)"
      ],
      "id": "attractive-template",
      "execution_count": 11,
      "outputs": [
        {
          "output_type": "stream",
          "text": [
            "[8.98550725]\n"
          ],
          "name": "stdout"
        }
      ]
    }
  ]
}